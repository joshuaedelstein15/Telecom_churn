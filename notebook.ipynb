{
 "cells": [
  {
   "cell_type": "code",
   "execution_count": null,
   "metadata": {},
   "outputs": [],
   "source": []
  },
  {
   "cell_type": "markdown",
   "metadata": {},
   "source": [
    "# Telecom Churn Analysis"
   ]
  },
  {
   "cell_type": "markdown",
   "metadata": {},
   "source": [
    "## Overview\n",
    "\n",
    "Most telecom companies suffer from voluntary churn(loss of customers to a competition). Churn rate has strong impact on the life time value of the customer because it affects the length of service and the future revenue of the company. For example if a company has 25% churn rate then the average customer lifetime is 4 years; similarly a company with a churn rate of 50%, has an average customer lifetime of 2 years. It is estimated that 75 percent of the 17 to 20 million subscribers signing up with a new wireless carrier every year are coming from another wireless provider, which means they are churners. Telecom companies spend hundreds of dollars to acquire a new customer and when that customer leaves, the company not only loses the future revenue from that customer but also the resources spend to acquire that customer. Churn erodes profitability.\n",
    "\n",
    "Telecom companies have used two approaches to address churn - (a) Untargeted approach and (b) Targeted approach. The untargeted approach relies on superior product and mass advertising to increase brand loyalty and thus retain customers. The targeted approach relies on identifying customers who are likely to churn, and  provide suitable intervention to encourage them to stay.<a name=\"cite_ref-1\"></a>[<sup>[1]</sup>](#cite_note-1)\n",
    "\n",
    "<a name=\"cite_note-1\"></a>1. [^](#cite_ref-1) Data from CrowdAnalytix, https://www.crowdanalytix.com/contests/why-customer-churn\n"
   ]
  },
  {
   "cell_type": "markdown",
   "metadata": {},
   "source": [
    "## Business Understanding\n",
    "\n",
    "SyriaTel is a smaller end wireless provider, they don't have such the budget to invest in a large scale advertising campaign. However, they also can't afford to keep losing customers. Therefore they have turned to us to create a model for predicting which customers will churn. When a customers has been determined as likely to churn they will contact the customer with promotional deals in hopes of keeping the customer.\n",
    "\n",
    "In this scenario we will break the data into 2 categories: 1) the columns used to predict churn, 2) the target column of whether the customers churned or not. If churn is \"True\" that means the customer churned, and \"False\" if the customer didn't churn. \n",
    "\n",
    "In general it is important to consider beforehand whether a false positive or false negative is worse. In each specific case one should tune their model based on what is more important. In our case a false positive means that we predicted the customer would churn when they didn't. The outcome of this is that we will send them some promotional deals, and perhaps give them a discount. This will in turn cause a slight loss of profit, as these clients were already happy paying full price. On the other hand, a false negative is when we predict that a customer won't churn when really they will. This means that we will lose a customer without ever sending them promotional deals to try to get them to stay. The loss from this mistake is far greater then the loss from a false positive. As such when we are creating models we will attempt to minimize false negatives(maximize recall) as much as possible."
   ]
  },
  {
   "cell_type": "markdown",
   "metadata": {},
   "source": [
    "<div>\n",
    "<img src=\"Images/telephone_poles.jpg\", width = 800, height = 400/>\n",
    "</div>\n",
    "\n",
    "Photo by <a href=\"https://unsplash.com/@giggiulena?utm_source=unsplash&utm_medium=referral&utm_content=creditCopyText\">Mario Caruso</a> on <a href=\"https://unsplash.com/photos/0C9VmZUqcT8?utm_source=unsplash&utm_medium=referral&utm_content=creditCopyText\">Unsplash</a>\n",
    "  "
   ]
  },
  {
   "cell_type": "markdown",
   "metadata": {},
   "source": [
    "## Data Understanding"
   ]
  },
  {
   "cell_type": "markdown",
   "metadata": {},
   "source": [
    "This public dataset is provided by the CrowdAnalytix community as part of their churn prediction competition. The real name of the telecom company is anonymized, as well as the year of the data. However, it was used in competition in 2012, so seemingly from around then. \n",
    "\n",
    "Data source : https://www.crowdanalytix.com/contests/why-customer-churn"
   ]
  },
  {
   "cell_type": "markdown",
   "metadata": {},
   "source": [
    "Let's do some EDA on the data to find our more about it.\n",
    "\n",
    "We'll begin by importing all the packages we may need"
   ]
  },
  {
   "cell_type": "code",
   "execution_count": 1,
   "metadata": {},
   "outputs": [],
   "source": [
    "import pandas as pd\n",
    "import numpy as np\n",
    "np.random.seed(42)\n",
    "import matplotlib.pyplot as plt\n",
    "import seaborn as sns\n",
    "import scipy.stats as stats\n",
    "\n",
    "from sklearn.linear_model import LogisticRegression\n",
    "from sklearn.neighbors import KNeighborsClassifier\n",
    "from sklearn.tree import DecisionTreeClassifier\n",
    "\n",
    "from sklearn.metrics import precision_score, recall_score,\\\n",
    "classification_report, confusion_matrix\n",
    "from sklearn.model_selection import train_test_split, GridSearchCV,\\\n",
    "cross_val_score, RandomizedSearchCV\n",
    "\n",
    "from sklearn.preprocessing import OneHotEncoder, StandardScaler\n",
    "from sklearn.impute import SimpleImputer\n",
    "from sklearn.pipeline import Pipeline\n",
    "from sklearn.compose import ColumnTransformer\n",
    "\n",
    "from sklearn.ensemble import VotingClassifier, BaggingClassifier, RandomForestClassifier, \\\n",
    "ExtraTreesClassifier, StackingClassifier, AdaBoostClassifier, GradientBoostingClassifier\n",
    "\n",
    "import xgboost\n",
    "\n",
    "# Filtering future warnings\n",
    "import warnings\n",
    "warnings.filterwarnings('ignore')"
   ]
  },
  {
   "cell_type": "code",
   "execution_count": 2,
   "metadata": {},
   "outputs": [
    {
     "name": "stdout",
     "output_type": "stream",
     "text": [
      "archive.zip                        bigml_59c28831336c6604c800002a.csv\r\n"
     ]
    }
   ],
   "source": [
    "#Pull up the names of the data files\n",
    "!ls data"
   ]
  },
  {
   "cell_type": "code",
   "execution_count": 3,
   "metadata": {},
   "outputs": [
    {
     "data": {
      "text/html": [
       "<div>\n",
       "<style scoped>\n",
       "    .dataframe tbody tr th:only-of-type {\n",
       "        vertical-align: middle;\n",
       "    }\n",
       "\n",
       "    .dataframe tbody tr th {\n",
       "        vertical-align: top;\n",
       "    }\n",
       "\n",
       "    .dataframe thead th {\n",
       "        text-align: right;\n",
       "    }\n",
       "</style>\n",
       "<table border=\"1\" class=\"dataframe\">\n",
       "  <thead>\n",
       "    <tr style=\"text-align: right;\">\n",
       "      <th></th>\n",
       "      <th>state</th>\n",
       "      <th>account length</th>\n",
       "      <th>area code</th>\n",
       "      <th>phone number</th>\n",
       "      <th>international plan</th>\n",
       "      <th>voice mail plan</th>\n",
       "      <th>number vmail messages</th>\n",
       "      <th>total day minutes</th>\n",
       "      <th>total day calls</th>\n",
       "      <th>total day charge</th>\n",
       "      <th>...</th>\n",
       "      <th>total eve calls</th>\n",
       "      <th>total eve charge</th>\n",
       "      <th>total night minutes</th>\n",
       "      <th>total night calls</th>\n",
       "      <th>total night charge</th>\n",
       "      <th>total intl minutes</th>\n",
       "      <th>total intl calls</th>\n",
       "      <th>total intl charge</th>\n",
       "      <th>customer service calls</th>\n",
       "      <th>churn</th>\n",
       "    </tr>\n",
       "  </thead>\n",
       "  <tbody>\n",
       "    <tr>\n",
       "      <th>0</th>\n",
       "      <td>KS</td>\n",
       "      <td>128</td>\n",
       "      <td>415</td>\n",
       "      <td>382-4657</td>\n",
       "      <td>no</td>\n",
       "      <td>yes</td>\n",
       "      <td>25</td>\n",
       "      <td>265.1</td>\n",
       "      <td>110</td>\n",
       "      <td>45.07</td>\n",
       "      <td>...</td>\n",
       "      <td>99</td>\n",
       "      <td>16.78</td>\n",
       "      <td>244.7</td>\n",
       "      <td>91</td>\n",
       "      <td>11.01</td>\n",
       "      <td>10.0</td>\n",
       "      <td>3</td>\n",
       "      <td>2.70</td>\n",
       "      <td>1</td>\n",
       "      <td>False</td>\n",
       "    </tr>\n",
       "    <tr>\n",
       "      <th>1</th>\n",
       "      <td>OH</td>\n",
       "      <td>107</td>\n",
       "      <td>415</td>\n",
       "      <td>371-7191</td>\n",
       "      <td>no</td>\n",
       "      <td>yes</td>\n",
       "      <td>26</td>\n",
       "      <td>161.6</td>\n",
       "      <td>123</td>\n",
       "      <td>27.47</td>\n",
       "      <td>...</td>\n",
       "      <td>103</td>\n",
       "      <td>16.62</td>\n",
       "      <td>254.4</td>\n",
       "      <td>103</td>\n",
       "      <td>11.45</td>\n",
       "      <td>13.7</td>\n",
       "      <td>3</td>\n",
       "      <td>3.70</td>\n",
       "      <td>1</td>\n",
       "      <td>False</td>\n",
       "    </tr>\n",
       "    <tr>\n",
       "      <th>2</th>\n",
       "      <td>NJ</td>\n",
       "      <td>137</td>\n",
       "      <td>415</td>\n",
       "      <td>358-1921</td>\n",
       "      <td>no</td>\n",
       "      <td>no</td>\n",
       "      <td>0</td>\n",
       "      <td>243.4</td>\n",
       "      <td>114</td>\n",
       "      <td>41.38</td>\n",
       "      <td>...</td>\n",
       "      <td>110</td>\n",
       "      <td>10.30</td>\n",
       "      <td>162.6</td>\n",
       "      <td>104</td>\n",
       "      <td>7.32</td>\n",
       "      <td>12.2</td>\n",
       "      <td>5</td>\n",
       "      <td>3.29</td>\n",
       "      <td>0</td>\n",
       "      <td>False</td>\n",
       "    </tr>\n",
       "    <tr>\n",
       "      <th>3</th>\n",
       "      <td>OH</td>\n",
       "      <td>84</td>\n",
       "      <td>408</td>\n",
       "      <td>375-9999</td>\n",
       "      <td>yes</td>\n",
       "      <td>no</td>\n",
       "      <td>0</td>\n",
       "      <td>299.4</td>\n",
       "      <td>71</td>\n",
       "      <td>50.90</td>\n",
       "      <td>...</td>\n",
       "      <td>88</td>\n",
       "      <td>5.26</td>\n",
       "      <td>196.9</td>\n",
       "      <td>89</td>\n",
       "      <td>8.86</td>\n",
       "      <td>6.6</td>\n",
       "      <td>7</td>\n",
       "      <td>1.78</td>\n",
       "      <td>2</td>\n",
       "      <td>False</td>\n",
       "    </tr>\n",
       "    <tr>\n",
       "      <th>4</th>\n",
       "      <td>OK</td>\n",
       "      <td>75</td>\n",
       "      <td>415</td>\n",
       "      <td>330-6626</td>\n",
       "      <td>yes</td>\n",
       "      <td>no</td>\n",
       "      <td>0</td>\n",
       "      <td>166.7</td>\n",
       "      <td>113</td>\n",
       "      <td>28.34</td>\n",
       "      <td>...</td>\n",
       "      <td>122</td>\n",
       "      <td>12.61</td>\n",
       "      <td>186.9</td>\n",
       "      <td>121</td>\n",
       "      <td>8.41</td>\n",
       "      <td>10.1</td>\n",
       "      <td>3</td>\n",
       "      <td>2.73</td>\n",
       "      <td>3</td>\n",
       "      <td>False</td>\n",
       "    </tr>\n",
       "  </tbody>\n",
       "</table>\n",
       "<p>5 rows × 21 columns</p>\n",
       "</div>"
      ],
      "text/plain": [
       "  state  account length  area code phone number international plan  \\\n",
       "0    KS             128        415     382-4657                 no   \n",
       "1    OH             107        415     371-7191                 no   \n",
       "2    NJ             137        415     358-1921                 no   \n",
       "3    OH              84        408     375-9999                yes   \n",
       "4    OK              75        415     330-6626                yes   \n",
       "\n",
       "  voice mail plan  number vmail messages  total day minutes  total day calls  \\\n",
       "0             yes                     25              265.1              110   \n",
       "1             yes                     26              161.6              123   \n",
       "2              no                      0              243.4              114   \n",
       "3              no                      0              299.4               71   \n",
       "4              no                      0              166.7              113   \n",
       "\n",
       "   total day charge  ...  total eve calls  total eve charge  \\\n",
       "0             45.07  ...               99             16.78   \n",
       "1             27.47  ...              103             16.62   \n",
       "2             41.38  ...              110             10.30   \n",
       "3             50.90  ...               88              5.26   \n",
       "4             28.34  ...              122             12.61   \n",
       "\n",
       "   total night minutes  total night calls  total night charge  \\\n",
       "0                244.7                 91               11.01   \n",
       "1                254.4                103               11.45   \n",
       "2                162.6                104                7.32   \n",
       "3                196.9                 89                8.86   \n",
       "4                186.9                121                8.41   \n",
       "\n",
       "   total intl minutes  total intl calls  total intl charge  \\\n",
       "0                10.0                 3               2.70   \n",
       "1                13.7                 3               3.70   \n",
       "2                12.2                 5               3.29   \n",
       "3                 6.6                 7               1.78   \n",
       "4                10.1                 3               2.73   \n",
       "\n",
       "   customer service calls  churn  \n",
       "0                       1  False  \n",
       "1                       1  False  \n",
       "2                       0  False  \n",
       "3                       2  False  \n",
       "4                       3  False  \n",
       "\n",
       "[5 rows x 21 columns]"
      ]
     },
     "execution_count": 3,
     "metadata": {},
     "output_type": "execute_result"
    }
   ],
   "source": [
    "# Read the data as a pandas df, and preview the first 5 columns\n",
    "df = pd.read_csv('data/bigml_59c28831336c6604c800002a.csv')\n",
    "df.head()"
   ]
  },
  {
   "cell_type": "code",
   "execution_count": 4,
   "metadata": {
    "scrolled": false
   },
   "outputs": [
    {
     "name": "stdout",
     "output_type": "stream",
     "text": [
      "<class 'pandas.core.frame.DataFrame'>\n",
      "RangeIndex: 3333 entries, 0 to 3332\n",
      "Data columns (total 21 columns):\n",
      " #   Column                  Non-Null Count  Dtype  \n",
      "---  ------                  --------------  -----  \n",
      " 0   state                   3333 non-null   object \n",
      " 1   account length          3333 non-null   int64  \n",
      " 2   area code               3333 non-null   int64  \n",
      " 3   phone number            3333 non-null   object \n",
      " 4   international plan      3333 non-null   object \n",
      " 5   voice mail plan         3333 non-null   object \n",
      " 6   number vmail messages   3333 non-null   int64  \n",
      " 7   total day minutes       3333 non-null   float64\n",
      " 8   total day calls         3333 non-null   int64  \n",
      " 9   total day charge        3333 non-null   float64\n",
      " 10  total eve minutes       3333 non-null   float64\n",
      " 11  total eve calls         3333 non-null   int64  \n",
      " 12  total eve charge        3333 non-null   float64\n",
      " 13  total night minutes     3333 non-null   float64\n",
      " 14  total night calls       3333 non-null   int64  \n",
      " 15  total night charge      3333 non-null   float64\n",
      " 16  total intl minutes      3333 non-null   float64\n",
      " 17  total intl calls        3333 non-null   int64  \n",
      " 18  total intl charge       3333 non-null   float64\n",
      " 19  customer service calls  3333 non-null   int64  \n",
      " 20  churn                   3333 non-null   bool   \n",
      "dtypes: bool(1), float64(8), int64(8), object(4)\n",
      "memory usage: 524.2+ KB\n"
     ]
    }
   ],
   "source": [
    "df.info()"
   ]
  },
  {
   "cell_type": "markdown",
   "metadata": {},
   "source": [
    "We see that there 20 columns in the dataset. Of which 4 are strings, 15 are integer or float, and 1 is a bool. Most of these are predictor variables for customer usage patterns. The last column, `churn`, is our target column, indicating whether the customer churned or not.\n",
    "\n",
    "Additionally, there is no missing data, as such there will be very little cleaning necessary.\n",
    "\n",
    "Let's run a quick check to see if there are any duplicated rows"
   ]
  },
  {
   "cell_type": "code",
   "execution_count": 5,
   "metadata": {},
   "outputs": [
    {
     "data": {
      "text/plain": [
       "False    3333\n",
       "dtype: int64"
      ]
     },
     "execution_count": 5,
     "metadata": {},
     "output_type": "execute_result"
    }
   ],
   "source": [
    "#check for duplicate rows\n",
    "df.duplicated().value_counts()"
   ]
  },
  {
   "cell_type": "markdown",
   "metadata": {},
   "source": [
    "If we take a closer look, we'll notice that although `area code` is listed as integer type, is really is and object, given that a value that is double in area code, doesn't have twice the impact. As such we will convert that column to object"
   ]
  },
  {
   "cell_type": "code",
   "execution_count": 6,
   "metadata": {
    "scrolled": false
   },
   "outputs": [
    {
     "data": {
      "text/plain": [
       "state                      object\n",
       "account length              int64\n",
       "area code                  object\n",
       "phone number               object\n",
       "international plan         object\n",
       "voice mail plan            object\n",
       "number vmail messages       int64\n",
       "total day minutes         float64\n",
       "total day calls             int64\n",
       "total day charge          float64\n",
       "total eve minutes         float64\n",
       "total eve calls             int64\n",
       "total eve charge          float64\n",
       "total night minutes       float64\n",
       "total night calls           int64\n",
       "total night charge        float64\n",
       "total intl minutes        float64\n",
       "total intl calls            int64\n",
       "total intl charge         float64\n",
       "customer service calls      int64\n",
       "churn                        bool\n",
       "dtype: object"
      ]
     },
     "execution_count": 6,
     "metadata": {},
     "output_type": "execute_result"
    }
   ],
   "source": [
    "#convert area code from int to object\n",
    "df['area code'] = df['area code'].astype(object)\n",
    "\n",
    "#check that it worked\n",
    "df.dtypes"
   ]
  },
  {
   "cell_type": "markdown",
   "metadata": {},
   "source": [
    "Let's move on and take a closer look at the spread of our data"
   ]
  },
  {
   "cell_type": "code",
   "execution_count": 7,
   "metadata": {},
   "outputs": [
    {
     "data": {
      "text/html": [
       "<div>\n",
       "<style scoped>\n",
       "    .dataframe tbody tr th:only-of-type {\n",
       "        vertical-align: middle;\n",
       "    }\n",
       "\n",
       "    .dataframe tbody tr th {\n",
       "        vertical-align: top;\n",
       "    }\n",
       "\n",
       "    .dataframe thead th {\n",
       "        text-align: right;\n",
       "    }\n",
       "</style>\n",
       "<table border=\"1\" class=\"dataframe\">\n",
       "  <thead>\n",
       "    <tr style=\"text-align: right;\">\n",
       "      <th></th>\n",
       "      <th>account length</th>\n",
       "      <th>number vmail messages</th>\n",
       "      <th>total day minutes</th>\n",
       "      <th>total day calls</th>\n",
       "      <th>total day charge</th>\n",
       "      <th>total eve minutes</th>\n",
       "      <th>total eve calls</th>\n",
       "      <th>total eve charge</th>\n",
       "      <th>total night minutes</th>\n",
       "      <th>total night calls</th>\n",
       "      <th>total night charge</th>\n",
       "      <th>total intl minutes</th>\n",
       "      <th>total intl calls</th>\n",
       "      <th>total intl charge</th>\n",
       "      <th>customer service calls</th>\n",
       "    </tr>\n",
       "  </thead>\n",
       "  <tbody>\n",
       "    <tr>\n",
       "      <th>count</th>\n",
       "      <td>3333.000000</td>\n",
       "      <td>3333.000000</td>\n",
       "      <td>3333.000000</td>\n",
       "      <td>3333.000000</td>\n",
       "      <td>3333.000000</td>\n",
       "      <td>3333.000000</td>\n",
       "      <td>3333.000000</td>\n",
       "      <td>3333.000000</td>\n",
       "      <td>3333.000000</td>\n",
       "      <td>3333.000000</td>\n",
       "      <td>3333.000000</td>\n",
       "      <td>3333.000000</td>\n",
       "      <td>3333.000000</td>\n",
       "      <td>3333.000000</td>\n",
       "      <td>3333.000000</td>\n",
       "    </tr>\n",
       "    <tr>\n",
       "      <th>mean</th>\n",
       "      <td>101.064806</td>\n",
       "      <td>8.099010</td>\n",
       "      <td>179.775098</td>\n",
       "      <td>100.435644</td>\n",
       "      <td>30.562307</td>\n",
       "      <td>200.980348</td>\n",
       "      <td>100.114311</td>\n",
       "      <td>17.083540</td>\n",
       "      <td>200.872037</td>\n",
       "      <td>100.107711</td>\n",
       "      <td>9.039325</td>\n",
       "      <td>10.237294</td>\n",
       "      <td>4.479448</td>\n",
       "      <td>2.764581</td>\n",
       "      <td>1.562856</td>\n",
       "    </tr>\n",
       "    <tr>\n",
       "      <th>std</th>\n",
       "      <td>39.822106</td>\n",
       "      <td>13.688365</td>\n",
       "      <td>54.467389</td>\n",
       "      <td>20.069084</td>\n",
       "      <td>9.259435</td>\n",
       "      <td>50.713844</td>\n",
       "      <td>19.922625</td>\n",
       "      <td>4.310668</td>\n",
       "      <td>50.573847</td>\n",
       "      <td>19.568609</td>\n",
       "      <td>2.275873</td>\n",
       "      <td>2.791840</td>\n",
       "      <td>2.461214</td>\n",
       "      <td>0.753773</td>\n",
       "      <td>1.315491</td>\n",
       "    </tr>\n",
       "    <tr>\n",
       "      <th>min</th>\n",
       "      <td>1.000000</td>\n",
       "      <td>0.000000</td>\n",
       "      <td>0.000000</td>\n",
       "      <td>0.000000</td>\n",
       "      <td>0.000000</td>\n",
       "      <td>0.000000</td>\n",
       "      <td>0.000000</td>\n",
       "      <td>0.000000</td>\n",
       "      <td>23.200000</td>\n",
       "      <td>33.000000</td>\n",
       "      <td>1.040000</td>\n",
       "      <td>0.000000</td>\n",
       "      <td>0.000000</td>\n",
       "      <td>0.000000</td>\n",
       "      <td>0.000000</td>\n",
       "    </tr>\n",
       "    <tr>\n",
       "      <th>25%</th>\n",
       "      <td>74.000000</td>\n",
       "      <td>0.000000</td>\n",
       "      <td>143.700000</td>\n",
       "      <td>87.000000</td>\n",
       "      <td>24.430000</td>\n",
       "      <td>166.600000</td>\n",
       "      <td>87.000000</td>\n",
       "      <td>14.160000</td>\n",
       "      <td>167.000000</td>\n",
       "      <td>87.000000</td>\n",
       "      <td>7.520000</td>\n",
       "      <td>8.500000</td>\n",
       "      <td>3.000000</td>\n",
       "      <td>2.300000</td>\n",
       "      <td>1.000000</td>\n",
       "    </tr>\n",
       "    <tr>\n",
       "      <th>50%</th>\n",
       "      <td>101.000000</td>\n",
       "      <td>0.000000</td>\n",
       "      <td>179.400000</td>\n",
       "      <td>101.000000</td>\n",
       "      <td>30.500000</td>\n",
       "      <td>201.400000</td>\n",
       "      <td>100.000000</td>\n",
       "      <td>17.120000</td>\n",
       "      <td>201.200000</td>\n",
       "      <td>100.000000</td>\n",
       "      <td>9.050000</td>\n",
       "      <td>10.300000</td>\n",
       "      <td>4.000000</td>\n",
       "      <td>2.780000</td>\n",
       "      <td>1.000000</td>\n",
       "    </tr>\n",
       "    <tr>\n",
       "      <th>75%</th>\n",
       "      <td>127.000000</td>\n",
       "      <td>20.000000</td>\n",
       "      <td>216.400000</td>\n",
       "      <td>114.000000</td>\n",
       "      <td>36.790000</td>\n",
       "      <td>235.300000</td>\n",
       "      <td>114.000000</td>\n",
       "      <td>20.000000</td>\n",
       "      <td>235.300000</td>\n",
       "      <td>113.000000</td>\n",
       "      <td>10.590000</td>\n",
       "      <td>12.100000</td>\n",
       "      <td>6.000000</td>\n",
       "      <td>3.270000</td>\n",
       "      <td>2.000000</td>\n",
       "    </tr>\n",
       "    <tr>\n",
       "      <th>max</th>\n",
       "      <td>243.000000</td>\n",
       "      <td>51.000000</td>\n",
       "      <td>350.800000</td>\n",
       "      <td>165.000000</td>\n",
       "      <td>59.640000</td>\n",
       "      <td>363.700000</td>\n",
       "      <td>170.000000</td>\n",
       "      <td>30.910000</td>\n",
       "      <td>395.000000</td>\n",
       "      <td>175.000000</td>\n",
       "      <td>17.770000</td>\n",
       "      <td>20.000000</td>\n",
       "      <td>20.000000</td>\n",
       "      <td>5.400000</td>\n",
       "      <td>9.000000</td>\n",
       "    </tr>\n",
       "  </tbody>\n",
       "</table>\n",
       "</div>"
      ],
      "text/plain": [
       "       account length  number vmail messages  total day minutes  \\\n",
       "count     3333.000000            3333.000000        3333.000000   \n",
       "mean       101.064806               8.099010         179.775098   \n",
       "std         39.822106              13.688365          54.467389   \n",
       "min          1.000000               0.000000           0.000000   \n",
       "25%         74.000000               0.000000         143.700000   \n",
       "50%        101.000000               0.000000         179.400000   \n",
       "75%        127.000000              20.000000         216.400000   \n",
       "max        243.000000              51.000000         350.800000   \n",
       "\n",
       "       total day calls  total day charge  total eve minutes  total eve calls  \\\n",
       "count      3333.000000       3333.000000        3333.000000      3333.000000   \n",
       "mean        100.435644         30.562307         200.980348       100.114311   \n",
       "std          20.069084          9.259435          50.713844        19.922625   \n",
       "min           0.000000          0.000000           0.000000         0.000000   \n",
       "25%          87.000000         24.430000         166.600000        87.000000   \n",
       "50%         101.000000         30.500000         201.400000       100.000000   \n",
       "75%         114.000000         36.790000         235.300000       114.000000   \n",
       "max         165.000000         59.640000         363.700000       170.000000   \n",
       "\n",
       "       total eve charge  total night minutes  total night calls  \\\n",
       "count       3333.000000          3333.000000        3333.000000   \n",
       "mean          17.083540           200.872037         100.107711   \n",
       "std            4.310668            50.573847          19.568609   \n",
       "min            0.000000            23.200000          33.000000   \n",
       "25%           14.160000           167.000000          87.000000   \n",
       "50%           17.120000           201.200000         100.000000   \n",
       "75%           20.000000           235.300000         113.000000   \n",
       "max           30.910000           395.000000         175.000000   \n",
       "\n",
       "       total night charge  total intl minutes  total intl calls  \\\n",
       "count         3333.000000         3333.000000       3333.000000   \n",
       "mean             9.039325           10.237294          4.479448   \n",
       "std              2.275873            2.791840          2.461214   \n",
       "min              1.040000            0.000000          0.000000   \n",
       "25%              7.520000            8.500000          3.000000   \n",
       "50%              9.050000           10.300000          4.000000   \n",
       "75%             10.590000           12.100000          6.000000   \n",
       "max             17.770000           20.000000         20.000000   \n",
       "\n",
       "       total intl charge  customer service calls  \n",
       "count        3333.000000             3333.000000  \n",
       "mean            2.764581                1.562856  \n",
       "std             0.753773                1.315491  \n",
       "min             0.000000                0.000000  \n",
       "25%             2.300000                1.000000  \n",
       "50%             2.780000                1.000000  \n",
       "75%             3.270000                2.000000  \n",
       "max             5.400000                9.000000  "
      ]
     },
     "execution_count": 7,
     "metadata": {},
     "output_type": "execute_result"
    }
   ],
   "source": [
    "#get descriptive statistics of the df\n",
    "df.describe()"
   ]
  },
  {
   "cell_type": "markdown",
   "metadata": {},
   "source": [
    "Firstly, we see that the data contains 3333 rows of data, which overall isn't such a large sample size. \n",
    "- Both the mean and median of `account length` are 101, which tells us that on average each client had their account open for 101 before deciding to terminate it. Unless this is a brand new company, and most of these accounts are still active, they will definitely want to improve this number. \n",
    "- It seems that this cellular dataset is from business accounts, as the mean and median number of calls during the day, eve and night were all around 100. While the number of hours on the phone was a little over 3 hours on average. \n",
    "- Roughly 5% of these calls were international.\n",
    "- Most of the clients had made roughly 1-2 service calls to the cellular company over this period.\n",
    "\n",
    "Let's graph some of these categories using seaborn to see the spread"
   ]
  },
  {
   "cell_type": "code",
   "execution_count": 8,
   "metadata": {},
   "outputs": [
    {
     "data": {
      "image/png": "[encoded data removed]",
      "text/plain": [
       "<Figure size 864x432 with 6 Axes>"
      ]
     },
     "metadata": {
      "needs_background": "light"
     },
     "output_type": "display_data"
    }
   ],
   "source": [
    "#create list of columns to graph\n",
    "columns = ['account length', 'total day calls', 'total eve calls', 'total night calls', \n",
    "           'total intl calls', 'customer service calls']\n",
    "\n",
    "#create 2, 3 graphs to plot each column\n",
    "fig, axs = plt.subplots(nrows=2, ncols=3, figsize=(12, 6))\n",
    "\n",
    "# Flatten the subplots array\n",
    "axs = axs.flatten()\n",
    "for i, col in enumerate(columns):\n",
    "    sns.distplot(df[col], bins=20, ax=axs[i])\n",
    "    axs[i].set_title(col)\n",
    "\n",
    "# Add a main title to the plot\n",
    "fig.suptitle('Distributions of variables', fontsize=16)\n",
    "\n",
    "# Adjust the spacing between subplots\n",
    "plt.subplots_adjust(hspace=0.4, wspace=0.3)\n",
    "\n",
    "# Show the plot\n",
    "plt.show()"
   ]
  },
  {
   "cell_type": "markdown",
   "metadata": {},
   "source": [
    "Let's move on to take a look at the customer break down by state"
   ]
  },
  {
   "cell_type": "code",
   "execution_count": 9,
   "metadata": {},
   "outputs": [
    {
     "data": {
      "image/png": "[encoded data removed]",
      "text/plain": [
       "<Figure size 1440x432 with 1 Axes>"
      ]
     },
     "metadata": {
      "needs_background": "light"
     },
     "output_type": "display_data"
    }
   ],
   "source": [
    "#create bar graph by state\n",
    "df['state'].value_counts().plot(kind='bar', figsize=(20,6))\n",
    "\n",
    "# set the title and axis labels\n",
    "plt.title('Number of Customers by State')\n",
    "plt.xlabel('State')\n",
    "plt.ylabel('Number of Customers')\n",
    "\n",
    "#rotate x label titles\n",
    "plt.xticks(rotation=0)\n",
    "\n",
    "#add in gridlines\n",
    "plt.grid(True)\n",
    "\n",
    "# display the plot\n",
    "plt.show()"
   ]
  },
  {
   "cell_type": "markdown",
   "metadata": {},
   "source": [
    "The number of customers per state ranges from slightly above 100, to slightly below 40. Most states have between 40-80 customers. "
   ]
  },
  {
   "cell_type": "code",
   "execution_count": 10,
   "metadata": {
    "scrolled": true
   },
   "outputs": [
    {
     "data": {
      "text/plain": [
       "415    1655\n",
       "510     840\n",
       "408     838\n",
       "Name: area code, dtype: int64"
      ]
     },
     "execution_count": 10,
     "metadata": {},
     "output_type": "execute_result"
    }
   ],
   "source": [
    "#Check the value counts in the 'area code' column\n",
    "df['area code'].value_counts()"
   ]
  },
  {
   "cell_type": "markdown",
   "metadata": {},
   "source": [
    "Quite strange that all the area codes are in California; however, the dataframe is composed of a lot of non California states. "
   ]
  },
  {
   "cell_type": "markdown",
   "metadata": {},
   "source": [
    "Finally, lets take a look at our `churn` column"
   ]
  },
  {
   "cell_type": "code",
   "execution_count": 11,
   "metadata": {
    "scrolled": false
   },
   "outputs": [
    {
     "name": "stdout",
     "output_type": "stream",
     "text": [
      "False    2850\n",
      "True      483\n",
      "Name: churn, dtype: int64\n"
     ]
    },
    {
     "data": {
      "image/png": "[encoded data removed]",
      "text/plain": [
       "<Figure size 432x288 with 1 Axes>"
      ]
     },
     "metadata": {
      "needs_background": "light"
     },
     "output_type": "display_data"
    }
   ],
   "source": [
    "# Countplot of churn feature\n",
    "print(df.churn.value_counts())\n",
    "sns.countplot(data=df, x='churn');"
   ]
  },
  {
   "cell_type": "code",
   "execution_count": 12,
   "metadata": {},
   "outputs": [
    {
     "name": "stdout",
     "output_type": "stream",
     "text": [
      "Percent of customers that churned: 14%\n"
     ]
    }
   ],
   "source": [
    "#print out the churn percentage\n",
    "churn_counts = df.churn.value_counts(normalize=True)\n",
    "print(f'Percent of customers that churned: {int(round(churn_counts[1]*100))}%')"
   ]
  },
  {
   "cell_type": "markdown",
   "metadata": {},
   "source": [
    "Lastly, let's print out the churn percentage by `state`, `international plan`, and `voice mail plan` to see if there is anything interesting there"
   ]
  },
  {
   "cell_type": "code",
   "execution_count": 13,
   "metadata": {},
   "outputs": [
    {
     "data": {
      "image/png": "[encoded data removed]",
      "text/plain": [
       "<Figure size 720x288 with 1 Axes>"
      ]
     },
     "metadata": {
      "needs_background": "light"
     },
     "output_type": "display_data"
    },
    {
     "data": {
      "image/png": "[encoded data removed]",
      "text/plain": [
       "<Figure size 720x288 with 1 Axes>"
      ]
     },
     "metadata": {
      "needs_background": "light"
     },
     "output_type": "display_data"
    },
    {
     "data": {
      "image/png": "[encoded data removed]",
      "text/plain": [
       "<Figure size 720x288 with 1 Axes>"
      ]
     },
     "metadata": {
      "needs_background": "light"
     },
     "output_type": "display_data"
    }
   ],
   "source": [
    "#create list of columns to graph\n",
    "columns = ['state', 'international plan', 'voice mail plan']\n",
    "\n",
    "#for loop thru columns\n",
    "for col in columns:\n",
    "    \n",
    "    #create figure\n",
    "    plt.figure(figsize=(10,4))\n",
    "    \n",
    "    #create countplot for each column, broken up by churn\n",
    "    sns.countplot(x=col, hue=\"churn\", data=df,order= df[col].value_counts().iloc[0:15].index)\n",
    "    \n",
    "    #rotate xticks to 90 degrees\n",
    "    plt.xticks(rotation=90)\n",
    "    \n",
    "    #insert a legend in the top right hand corner\n",
    "    plt.legend(loc=\"upper right\")\n",
    "    plt.show()"
   ]
  },
  {
   "cell_type": "markdown",
   "metadata": {},
   "source": [
    "There's to be nothing major that stands out here. Most states seem to have similar churn percentages. Similarly, those without and without voice mail plans also have similar churn percentages. However, it is interesting to not that the percent churn on those with international plans, was far greater then those without. Although, the amount of people with international plans was quite small and thus it's a small sample size, it is still an interesting observation"
   ]
  },
  {
   "cell_type": "markdown",
   "metadata": {},
   "source": [
    "## Data Preperation"
   ]
  },
  {
   "cell_type": "markdown",
   "metadata": {},
   "source": [
    "If we take a closer look, we'll notice that although `area code` is listed as integer type, it really is an object. This is because a value that is double in area code, doesn't have twice the impact. As such we will convert that column to object"
   ]
  },
  {
   "cell_type": "code",
   "execution_count": 14,
   "metadata": {},
   "outputs": [
    {
     "data": {
      "text/plain": [
       "state                      object\n",
       "account length              int64\n",
       "area code                  object\n",
       "phone number               object\n",
       "international plan         object\n",
       "voice mail plan            object\n",
       "number vmail messages       int64\n",
       "total day minutes         float64\n",
       "total day calls             int64\n",
       "total day charge          float64\n",
       "total eve minutes         float64\n",
       "total eve calls             int64\n",
       "total eve charge          float64\n",
       "total night minutes       float64\n",
       "total night calls           int64\n",
       "total night charge        float64\n",
       "total intl minutes        float64\n",
       "total intl calls            int64\n",
       "total intl charge         float64\n",
       "customer service calls      int64\n",
       "churn                        bool\n",
       "dtype: object"
      ]
     },
     "execution_count": 14,
     "metadata": {},
     "output_type": "execute_result"
    }
   ],
   "source": [
    "#convert area code from int to object\n",
    "df['area code'] = df['area code'].astype(object)\n",
    "\n",
    "#check that it worked\n",
    "df.dtypes"
   ]
  },
  {
   "cell_type": "markdown",
   "metadata": {},
   "source": [
    "Since the phone number that someone happens to have should have zero correlation with whether they churn or not, we will drop that column."
   ]
  },
  {
   "cell_type": "code",
   "execution_count": 15,
   "metadata": {},
   "outputs": [],
   "source": [
    "#drop phone number column\n",
    "df.drop('phone number', axis = 1, inplace=True)"
   ]
  },
  {
   "cell_type": "markdown",
   "metadata": {},
   "source": [
    "Now, let's move on to our data analysis"
   ]
  },
  {
   "cell_type": "markdown",
   "metadata": {},
   "source": [
    "## Data Analysis"
   ]
  },
  {
   "cell_type": "markdown",
   "metadata": {},
   "source": [
    "We begin by splitting our data into predictors and target columns. The target column is `churn` and the predictors will be the other columns in the df"
   ]
  },
  {
   "cell_type": "code",
   "execution_count": 16,
   "metadata": {},
   "outputs": [],
   "source": [
    "#split the data into X and y, based on predictors and target\n",
    "y = df.churn\n",
    "X = df.drop(['churn'], axis = 1)"
   ]
  },
  {
   "cell_type": "markdown",
   "metadata": {},
   "source": [
    "Let's split the data into 2 groups to create a model on the training data, and then test it back on the other part of the data"
   ]
  },
  {
   "cell_type": "code",
   "execution_count": 17,
   "metadata": {},
   "outputs": [],
   "source": [
    "# run a train test split, to split the data with a test size of 20%\n",
    "X_train, X_test, y_train, y_test = train_test_split(X, y, test_size=.2, random_state=42)"
   ]
  },
  {
   "cell_type": "markdown",
   "metadata": {},
   "source": [
    "### Data Preprocessing\n",
    "To prepare our data for analysis we need to create dummy variables for the categorical data and scale the numerical predictors"
   ]
  },
  {
   "cell_type": "code",
   "execution_count": 18,
   "metadata": {
    "scrolled": true
   },
   "outputs": [
    {
     "data": {
      "text/html": [
       "<div>\n",
       "<style scoped>\n",
       "    .dataframe tbody tr th:only-of-type {\n",
       "        vertical-align: middle;\n",
       "    }\n",
       "\n",
       "    .dataframe tbody tr th {\n",
       "        vertical-align: top;\n",
       "    }\n",
       "\n",
       "    .dataframe thead th {\n",
       "        text-align: right;\n",
       "    }\n",
       "</style>\n",
       "<table border=\"1\" class=\"dataframe\">\n",
       "  <thead>\n",
       "    <tr style=\"text-align: right;\">\n",
       "      <th></th>\n",
       "      <th>x0_AL</th>\n",
       "      <th>x0_AR</th>\n",
       "      <th>x0_AZ</th>\n",
       "      <th>x0_CA</th>\n",
       "      <th>x0_CO</th>\n",
       "      <th>x0_CT</th>\n",
       "      <th>x0_DC</th>\n",
       "      <th>x0_DE</th>\n",
       "      <th>x0_FL</th>\n",
       "      <th>x0_GA</th>\n",
       "      <th>...</th>\n",
       "      <th>x0_VA</th>\n",
       "      <th>x0_VT</th>\n",
       "      <th>x0_WA</th>\n",
       "      <th>x0_WI</th>\n",
       "      <th>x0_WV</th>\n",
       "      <th>x0_WY</th>\n",
       "      <th>x1_415</th>\n",
       "      <th>x1_510</th>\n",
       "      <th>x2_yes</th>\n",
       "      <th>x3_yes</th>\n",
       "    </tr>\n",
       "  </thead>\n",
       "  <tbody>\n",
       "    <tr>\n",
       "      <th>817</th>\n",
       "      <td>0.0</td>\n",
       "      <td>0.0</td>\n",
       "      <td>0.0</td>\n",
       "      <td>0.0</td>\n",
       "      <td>0.0</td>\n",
       "      <td>0.0</td>\n",
       "      <td>0.0</td>\n",
       "      <td>0.0</td>\n",
       "      <td>0.0</td>\n",
       "      <td>0.0</td>\n",
       "      <td>...</td>\n",
       "      <td>0.0</td>\n",
       "      <td>0.0</td>\n",
       "      <td>0.0</td>\n",
       "      <td>0.0</td>\n",
       "      <td>0.0</td>\n",
       "      <td>0.0</td>\n",
       "      <td>0.0</td>\n",
       "      <td>1.0</td>\n",
       "      <td>0.0</td>\n",
       "      <td>0.0</td>\n",
       "    </tr>\n",
       "    <tr>\n",
       "      <th>1373</th>\n",
       "      <td>0.0</td>\n",
       "      <td>0.0</td>\n",
       "      <td>0.0</td>\n",
       "      <td>0.0</td>\n",
       "      <td>0.0</td>\n",
       "      <td>0.0</td>\n",
       "      <td>0.0</td>\n",
       "      <td>0.0</td>\n",
       "      <td>0.0</td>\n",
       "      <td>0.0</td>\n",
       "      <td>...</td>\n",
       "      <td>0.0</td>\n",
       "      <td>0.0</td>\n",
       "      <td>0.0</td>\n",
       "      <td>0.0</td>\n",
       "      <td>0.0</td>\n",
       "      <td>0.0</td>\n",
       "      <td>1.0</td>\n",
       "      <td>0.0</td>\n",
       "      <td>0.0</td>\n",
       "      <td>0.0</td>\n",
       "    </tr>\n",
       "    <tr>\n",
       "      <th>679</th>\n",
       "      <td>0.0</td>\n",
       "      <td>0.0</td>\n",
       "      <td>0.0</td>\n",
       "      <td>0.0</td>\n",
       "      <td>0.0</td>\n",
       "      <td>0.0</td>\n",
       "      <td>0.0</td>\n",
       "      <td>0.0</td>\n",
       "      <td>0.0</td>\n",
       "      <td>0.0</td>\n",
       "      <td>...</td>\n",
       "      <td>0.0</td>\n",
       "      <td>0.0</td>\n",
       "      <td>0.0</td>\n",
       "      <td>0.0</td>\n",
       "      <td>0.0</td>\n",
       "      <td>0.0</td>\n",
       "      <td>1.0</td>\n",
       "      <td>0.0</td>\n",
       "      <td>1.0</td>\n",
       "      <td>0.0</td>\n",
       "    </tr>\n",
       "    <tr>\n",
       "      <th>56</th>\n",
       "      <td>0.0</td>\n",
       "      <td>0.0</td>\n",
       "      <td>0.0</td>\n",
       "      <td>0.0</td>\n",
       "      <td>1.0</td>\n",
       "      <td>0.0</td>\n",
       "      <td>0.0</td>\n",
       "      <td>0.0</td>\n",
       "      <td>0.0</td>\n",
       "      <td>0.0</td>\n",
       "      <td>...</td>\n",
       "      <td>0.0</td>\n",
       "      <td>0.0</td>\n",
       "      <td>0.0</td>\n",
       "      <td>0.0</td>\n",
       "      <td>0.0</td>\n",
       "      <td>0.0</td>\n",
       "      <td>1.0</td>\n",
       "      <td>0.0</td>\n",
       "      <td>0.0</td>\n",
       "      <td>0.0</td>\n",
       "    </tr>\n",
       "    <tr>\n",
       "      <th>1993</th>\n",
       "      <td>0.0</td>\n",
       "      <td>0.0</td>\n",
       "      <td>0.0</td>\n",
       "      <td>0.0</td>\n",
       "      <td>0.0</td>\n",
       "      <td>0.0</td>\n",
       "      <td>0.0</td>\n",
       "      <td>0.0</td>\n",
       "      <td>0.0</td>\n",
       "      <td>0.0</td>\n",
       "      <td>...</td>\n",
       "      <td>0.0</td>\n",
       "      <td>0.0</td>\n",
       "      <td>0.0</td>\n",
       "      <td>0.0</td>\n",
       "      <td>0.0</td>\n",
       "      <td>0.0</td>\n",
       "      <td>0.0</td>\n",
       "      <td>1.0</td>\n",
       "      <td>0.0</td>\n",
       "      <td>0.0</td>\n",
       "    </tr>\n",
       "  </tbody>\n",
       "</table>\n",
       "<p>5 rows × 54 columns</p>\n",
       "</div>"
      ],
      "text/plain": [
       "      x0_AL  x0_AR  x0_AZ  x0_CA  x0_CO  x0_CT  x0_DC  x0_DE  x0_FL  x0_GA  \\\n",
       "817     0.0    0.0    0.0    0.0    0.0    0.0    0.0    0.0    0.0    0.0   \n",
       "1373    0.0    0.0    0.0    0.0    0.0    0.0    0.0    0.0    0.0    0.0   \n",
       "679     0.0    0.0    0.0    0.0    0.0    0.0    0.0    0.0    0.0    0.0   \n",
       "56      0.0    0.0    0.0    0.0    1.0    0.0    0.0    0.0    0.0    0.0   \n",
       "1993    0.0    0.0    0.0    0.0    0.0    0.0    0.0    0.0    0.0    0.0   \n",
       "\n",
       "      ...  x0_VA  x0_VT  x0_WA  x0_WI  x0_WV  x0_WY  x1_415  x1_510  x2_yes  \\\n",
       "817   ...    0.0    0.0    0.0    0.0    0.0    0.0     0.0     1.0     0.0   \n",
       "1373  ...    0.0    0.0    0.0    0.0    0.0    0.0     1.0     0.0     0.0   \n",
       "679   ...    0.0    0.0    0.0    0.0    0.0    0.0     1.0     0.0     1.0   \n",
       "56    ...    0.0    0.0    0.0    0.0    0.0    0.0     1.0     0.0     0.0   \n",
       "1993  ...    0.0    0.0    0.0    0.0    0.0    0.0     0.0     1.0     0.0   \n",
       "\n",
       "      x3_yes  \n",
       "817      0.0  \n",
       "1373     0.0  \n",
       "679      0.0  \n",
       "56       0.0  \n",
       "1993     0.0  \n",
       "\n",
       "[5 rows x 54 columns]"
      ]
     },
     "execution_count": 18,
     "metadata": {},
     "output_type": "execute_result"
    }
   ],
   "source": [
    "#create a df of all categorical predictors\n",
    "X_train_cat = X_train.select_dtypes('object')\n",
    "\n",
    "#create a OneHotEncoder to create dummy columns\n",
    "ohe = OneHotEncoder(drop='first', sparse=False)\n",
    "\n",
    "#fit the encoder on the data and transform it\n",
    "dums = ohe.fit_transform(X_train_cat)\n",
    "\n",
    "#turn the numpy array back into a pandas df\n",
    "dums_df = pd.DataFrame(dums, columns=ohe.get_feature_names(), index=X_train_cat.index)\n",
    "\n",
    "#preview the df to confirm it loaded correctly\n",
    "dums_df.head()"
   ]
  },
  {
   "cell_type": "code",
   "execution_count": 19,
   "metadata": {},
   "outputs": [
    {
     "data": {
      "text/html": [
       "<div>\n",
       "<style scoped>\n",
       "    .dataframe tbody tr th:only-of-type {\n",
       "        vertical-align: middle;\n",
       "    }\n",
       "\n",
       "    .dataframe tbody tr th {\n",
       "        vertical-align: top;\n",
       "    }\n",
       "\n",
       "    .dataframe thead th {\n",
       "        text-align: right;\n",
       "    }\n",
       "</style>\n",
       "<table border=\"1\" class=\"dataframe\">\n",
       "  <thead>\n",
       "    <tr style=\"text-align: right;\">\n",
       "      <th></th>\n",
       "      <th>account length</th>\n",
       "      <th>number vmail messages</th>\n",
       "      <th>total day minutes</th>\n",
       "      <th>total day calls</th>\n",
       "      <th>total day charge</th>\n",
       "      <th>total eve minutes</th>\n",
       "      <th>total eve calls</th>\n",
       "      <th>total eve charge</th>\n",
       "      <th>total night minutes</th>\n",
       "      <th>total night calls</th>\n",
       "      <th>total night charge</th>\n",
       "      <th>total intl minutes</th>\n",
       "      <th>total intl calls</th>\n",
       "      <th>total intl charge</th>\n",
       "      <th>customer service calls</th>\n",
       "    </tr>\n",
       "  </thead>\n",
       "  <tbody>\n",
       "    <tr>\n",
       "      <th>817</th>\n",
       "      <td>3.601382</td>\n",
       "      <td>-0.584936</td>\n",
       "      <td>-1.547653</td>\n",
       "      <td>-0.429657</td>\n",
       "      <td>-1.547170</td>\n",
       "      <td>-0.729987</td>\n",
       "      <td>-1.840891</td>\n",
       "      <td>-0.731087</td>\n",
       "      <td>1.255804</td>\n",
       "      <td>0.925634</td>\n",
       "      <td>1.256197</td>\n",
       "      <td>-1.300791</td>\n",
       "      <td>0.634849</td>\n",
       "      <td>-1.304132</td>\n",
       "      <td>0.318978</td>\n",
       "    </tr>\n",
       "    <tr>\n",
       "      <th>1373</th>\n",
       "      <td>0.184951</td>\n",
       "      <td>-0.584936</td>\n",
       "      <td>-1.244014</td>\n",
       "      <td>0.224176</td>\n",
       "      <td>-1.244071</td>\n",
       "      <td>-0.138082</td>\n",
       "      <td>0.499864</td>\n",
       "      <td>-0.139179</td>\n",
       "      <td>0.165090</td>\n",
       "      <td>-0.353704</td>\n",
       "      <td>0.164841</td>\n",
       "      <td>-2.194793</td>\n",
       "      <td>-0.184370</td>\n",
       "      <td>-2.191525</td>\n",
       "      <td>1.813519</td>\n",
       "    </tr>\n",
       "    <tr>\n",
       "      <th>679</th>\n",
       "      <td>-0.650176</td>\n",
       "      <td>-0.584936</td>\n",
       "      <td>0.787609</td>\n",
       "      <td>-1.133785</td>\n",
       "      <td>0.787772</td>\n",
       "      <td>2.491952</td>\n",
       "      <td>0.549667</td>\n",
       "      <td>2.493068</td>\n",
       "      <td>0.147339</td>\n",
       "      <td>0.209205</td>\n",
       "      <td>0.147309</td>\n",
       "      <td>-0.549828</td>\n",
       "      <td>1.863677</td>\n",
       "      <td>-0.549186</td>\n",
       "      <td>-0.428293</td>\n",
       "    </tr>\n",
       "    <tr>\n",
       "      <th>56</th>\n",
       "      <td>1.020079</td>\n",
       "      <td>-0.584936</td>\n",
       "      <td>-0.969818</td>\n",
       "      <td>-0.127888</td>\n",
       "      <td>-0.970200</td>\n",
       "      <td>-0.408385</td>\n",
       "      <td>-1.890695</td>\n",
       "      <td>-0.408439</td>\n",
       "      <td>-1.178086</td>\n",
       "      <td>1.437368</td>\n",
       "      <td>-1.176344</td>\n",
       "      <td>-0.800149</td>\n",
       "      <td>-1.003589</td>\n",
       "      <td>-0.800835</td>\n",
       "      <td>-0.428293</td>\n",
       "    </tr>\n",
       "    <tr>\n",
       "      <th>1993</th>\n",
       "      <td>-0.371801</td>\n",
       "      <td>-0.584936</td>\n",
       "      <td>0.675354</td>\n",
       "      <td>-0.228477</td>\n",
       "      <td>0.675192</td>\n",
       "      <td>1.294330</td>\n",
       "      <td>-1.143645</td>\n",
       "      <td>1.295326</td>\n",
       "      <td>0.265680</td>\n",
       "      <td>0.516246</td>\n",
       "      <td>0.265649</td>\n",
       "      <td>-2.051753</td>\n",
       "      <td>-0.593980</td>\n",
       "      <td>-2.045833</td>\n",
       "      <td>-1.175564</td>\n",
       "    </tr>\n",
       "  </tbody>\n",
       "</table>\n",
       "</div>"
      ],
      "text/plain": [
       "      account length  number vmail messages  total day minutes  \\\n",
       "817         3.601382              -0.584936          -1.547653   \n",
       "1373        0.184951              -0.584936          -1.244014   \n",
       "679        -0.650176              -0.584936           0.787609   \n",
       "56          1.020079              -0.584936          -0.969818   \n",
       "1993       -0.371801              -0.584936           0.675354   \n",
       "\n",
       "      total day calls  total day charge  total eve minutes  total eve calls  \\\n",
       "817         -0.429657         -1.547170          -0.729987        -1.840891   \n",
       "1373         0.224176         -1.244071          -0.138082         0.499864   \n",
       "679         -1.133785          0.787772           2.491952         0.549667   \n",
       "56          -0.127888         -0.970200          -0.408385        -1.890695   \n",
       "1993        -0.228477          0.675192           1.294330        -1.143645   \n",
       "\n",
       "      total eve charge  total night minutes  total night calls  \\\n",
       "817          -0.731087             1.255804           0.925634   \n",
       "1373         -0.139179             0.165090          -0.353704   \n",
       "679           2.493068             0.147339           0.209205   \n",
       "56           -0.408439            -1.178086           1.437368   \n",
       "1993          1.295326             0.265680           0.516246   \n",
       "\n",
       "      total night charge  total intl minutes  total intl calls  \\\n",
       "817             1.256197           -1.300791          0.634849   \n",
       "1373            0.164841           -2.194793         -0.184370   \n",
       "679             0.147309           -0.549828          1.863677   \n",
       "56             -1.176344           -0.800149         -1.003589   \n",
       "1993            0.265649           -2.051753         -0.593980   \n",
       "\n",
       "      total intl charge  customer service calls  \n",
       "817           -1.304132                0.318978  \n",
       "1373          -2.191525                1.813519  \n",
       "679           -0.549186               -0.428293  \n",
       "56            -0.800835               -0.428293  \n",
       "1993          -2.045833               -1.175564  "
      ]
     },
     "execution_count": 19,
     "metadata": {},
     "output_type": "execute_result"
    }
   ],
   "source": [
    "#create df of categorical values in X_train\n",
    "X_train_nums = X_train.select_dtypes(['int64', 'float64'])\n",
    "\n",
    "#initiate a StandardScaler()\n",
    "ss = StandardScaler()\n",
    "\n",
    "#fit the scaler\n",
    "ss.fit(X_train_nums)\n",
    "\n",
    "#convert the numpy array back to a pandas df\n",
    "nums_df = pd.DataFrame(ss.transform(X_train_nums), columns=X_train_nums.columns, \n",
    "                       index=X_train_nums.index)\n",
    "\n",
    "#preview the data\n",
    "nums_df.head()"
   ]
  },
  {
   "cell_type": "code",
   "execution_count": 20,
   "metadata": {
    "scrolled": true
   },
   "outputs": [
    {
     "data": {
      "text/html": [
       "<div>\n",
       "<style scoped>\n",
       "    .dataframe tbody tr th:only-of-type {\n",
       "        vertical-align: middle;\n",
       "    }\n",
       "\n",
       "    .dataframe tbody tr th {\n",
       "        vertical-align: top;\n",
       "    }\n",
       "\n",
       "    .dataframe thead th {\n",
       "        text-align: right;\n",
       "    }\n",
       "</style>\n",
       "<table border=\"1\" class=\"dataframe\">\n",
       "  <thead>\n",
       "    <tr style=\"text-align: right;\">\n",
       "      <th></th>\n",
       "      <th>account length</th>\n",
       "      <th>number vmail messages</th>\n",
       "      <th>total day minutes</th>\n",
       "      <th>total day calls</th>\n",
       "      <th>total day charge</th>\n",
       "      <th>total eve minutes</th>\n",
       "      <th>total eve calls</th>\n",
       "      <th>total eve charge</th>\n",
       "      <th>total night minutes</th>\n",
       "      <th>total night calls</th>\n",
       "      <th>...</th>\n",
       "      <th>x0_VA</th>\n",
       "      <th>x0_VT</th>\n",
       "      <th>x0_WA</th>\n",
       "      <th>x0_WI</th>\n",
       "      <th>x0_WV</th>\n",
       "      <th>x0_WY</th>\n",
       "      <th>x1_415</th>\n",
       "      <th>x1_510</th>\n",
       "      <th>x2_yes</th>\n",
       "      <th>x3_yes</th>\n",
       "    </tr>\n",
       "  </thead>\n",
       "  <tbody>\n",
       "    <tr>\n",
       "      <th>817</th>\n",
       "      <td>3.601382</td>\n",
       "      <td>-0.584936</td>\n",
       "      <td>-1.547653</td>\n",
       "      <td>-0.429657</td>\n",
       "      <td>-1.547170</td>\n",
       "      <td>-0.729987</td>\n",
       "      <td>-1.840891</td>\n",
       "      <td>-0.731087</td>\n",
       "      <td>1.255804</td>\n",
       "      <td>0.925634</td>\n",
       "      <td>...</td>\n",
       "      <td>0.0</td>\n",
       "      <td>0.0</td>\n",
       "      <td>0.0</td>\n",
       "      <td>0.0</td>\n",
       "      <td>0.0</td>\n",
       "      <td>0.0</td>\n",
       "      <td>0.0</td>\n",
       "      <td>1.0</td>\n",
       "      <td>0.0</td>\n",
       "      <td>0.0</td>\n",
       "    </tr>\n",
       "    <tr>\n",
       "      <th>1373</th>\n",
       "      <td>0.184951</td>\n",
       "      <td>-0.584936</td>\n",
       "      <td>-1.244014</td>\n",
       "      <td>0.224176</td>\n",
       "      <td>-1.244071</td>\n",
       "      <td>-0.138082</td>\n",
       "      <td>0.499864</td>\n",
       "      <td>-0.139179</td>\n",
       "      <td>0.165090</td>\n",
       "      <td>-0.353704</td>\n",
       "      <td>...</td>\n",
       "      <td>0.0</td>\n",
       "      <td>0.0</td>\n",
       "      <td>0.0</td>\n",
       "      <td>0.0</td>\n",
       "      <td>0.0</td>\n",
       "      <td>0.0</td>\n",
       "      <td>1.0</td>\n",
       "      <td>0.0</td>\n",
       "      <td>0.0</td>\n",
       "      <td>0.0</td>\n",
       "    </tr>\n",
       "    <tr>\n",
       "      <th>679</th>\n",
       "      <td>-0.650176</td>\n",
       "      <td>-0.584936</td>\n",
       "      <td>0.787609</td>\n",
       "      <td>-1.133785</td>\n",
       "      <td>0.787772</td>\n",
       "      <td>2.491952</td>\n",
       "      <td>0.549667</td>\n",
       "      <td>2.493068</td>\n",
       "      <td>0.147339</td>\n",
       "      <td>0.209205</td>\n",
       "      <td>...</td>\n",
       "      <td>0.0</td>\n",
       "      <td>0.0</td>\n",
       "      <td>0.0</td>\n",
       "      <td>0.0</td>\n",
       "      <td>0.0</td>\n",
       "      <td>0.0</td>\n",
       "      <td>1.0</td>\n",
       "      <td>0.0</td>\n",
       "      <td>1.0</td>\n",
       "      <td>0.0</td>\n",
       "    </tr>\n",
       "    <tr>\n",
       "      <th>56</th>\n",
       "      <td>1.020079</td>\n",
       "      <td>-0.584936</td>\n",
       "      <td>-0.969818</td>\n",
       "      <td>-0.127888</td>\n",
       "      <td>-0.970200</td>\n",
       "      <td>-0.408385</td>\n",
       "      <td>-1.890695</td>\n",
       "      <td>-0.408439</td>\n",
       "      <td>-1.178086</td>\n",
       "      <td>1.437368</td>\n",
       "      <td>...</td>\n",
       "      <td>0.0</td>\n",
       "      <td>0.0</td>\n",
       "      <td>0.0</td>\n",
       "      <td>0.0</td>\n",
       "      <td>0.0</td>\n",
       "      <td>0.0</td>\n",
       "      <td>1.0</td>\n",
       "      <td>0.0</td>\n",
       "      <td>0.0</td>\n",
       "      <td>0.0</td>\n",
       "    </tr>\n",
       "    <tr>\n",
       "      <th>1993</th>\n",
       "      <td>-0.371801</td>\n",
       "      <td>-0.584936</td>\n",
       "      <td>0.675354</td>\n",
       "      <td>-0.228477</td>\n",
       "      <td>0.675192</td>\n",
       "      <td>1.294330</td>\n",
       "      <td>-1.143645</td>\n",
       "      <td>1.295326</td>\n",
       "      <td>0.265680</td>\n",
       "      <td>0.516246</td>\n",
       "      <td>...</td>\n",
       "      <td>0.0</td>\n",
       "      <td>0.0</td>\n",
       "      <td>0.0</td>\n",
       "      <td>0.0</td>\n",
       "      <td>0.0</td>\n",
       "      <td>0.0</td>\n",
       "      <td>0.0</td>\n",
       "      <td>1.0</td>\n",
       "      <td>0.0</td>\n",
       "      <td>0.0</td>\n",
       "    </tr>\n",
       "  </tbody>\n",
       "</table>\n",
       "<p>5 rows × 69 columns</p>\n",
       "</div>"
      ],
      "text/plain": [
       "      account length  number vmail messages  total day minutes  \\\n",
       "817         3.601382              -0.584936          -1.547653   \n",
       "1373        0.184951              -0.584936          -1.244014   \n",
       "679        -0.650176              -0.584936           0.787609   \n",
       "56          1.020079              -0.584936          -0.969818   \n",
       "1993       -0.371801              -0.584936           0.675354   \n",
       "\n",
       "      total day calls  total day charge  total eve minutes  total eve calls  \\\n",
       "817         -0.429657         -1.547170          -0.729987        -1.840891   \n",
       "1373         0.224176         -1.244071          -0.138082         0.499864   \n",
       "679         -1.133785          0.787772           2.491952         0.549667   \n",
       "56          -0.127888         -0.970200          -0.408385        -1.890695   \n",
       "1993        -0.228477          0.675192           1.294330        -1.143645   \n",
       "\n",
       "      total eve charge  total night minutes  total night calls  ...  x0_VA  \\\n",
       "817          -0.731087             1.255804           0.925634  ...    0.0   \n",
       "1373         -0.139179             0.165090          -0.353704  ...    0.0   \n",
       "679           2.493068             0.147339           0.209205  ...    0.0   \n",
       "56           -0.408439            -1.178086           1.437368  ...    0.0   \n",
       "1993          1.295326             0.265680           0.516246  ...    0.0   \n",
       "\n",
       "      x0_VT  x0_WA  x0_WI  x0_WV  x0_WY  x1_415  x1_510  x2_yes  x3_yes  \n",
       "817     0.0    0.0    0.0    0.0    0.0     0.0     1.0     0.0     0.0  \n",
       "1373    0.0    0.0    0.0    0.0    0.0     1.0     0.0     0.0     0.0  \n",
       "679     0.0    0.0    0.0    0.0    0.0     1.0     0.0     1.0     0.0  \n",
       "56      0.0    0.0    0.0    0.0    0.0     1.0     0.0     0.0     0.0  \n",
       "1993    0.0    0.0    0.0    0.0    0.0     0.0     1.0     0.0     0.0  \n",
       "\n",
       "[5 rows x 69 columns]"
      ]
     },
     "execution_count": 20,
     "metadata": {},
     "output_type": "execute_result"
    }
   ],
   "source": [
    "#create a df that combines the numeric and categorical predictors\n",
    "X_train_clean = pd.concat([nums_df, dums_df], axis=1)\n",
    "\n",
    "#preview the df\n",
    "X_train_clean.head()"
   ]
  },
  {
   "cell_type": "code",
   "execution_count": 21,
   "metadata": {},
   "outputs": [],
   "source": [
    "#create df of categorical predictors in X_test\n",
    "X_test_cat = X_test.select_dtypes('object')\n",
    "\n",
    "#use the OneHotEncoder() to create dummy columns\n",
    "test_dums = ohe.transform(X_test_cat)\n",
    "\n",
    "#convert the numpy array back to a pandas df\n",
    "test_dums_df = pd.DataFrame(test_dums, columns=ohe.get_feature_names(), index=X_test_cat.index)"
   ]
  },
  {
   "cell_type": "code",
   "execution_count": 22,
   "metadata": {},
   "outputs": [],
   "source": [
    "#create df of numeric predictors in X_test\n",
    "X_test_nums = X_test.select_dtypes(['int64','float64'])\n",
    "\n",
    "#use StandardScaler() to scale the data\n",
    "test_nums = ss.transform(X_test_nums)\n",
    "\n",
    "#convert the numpy array back to a pandas df\n",
    "test_nums_df = pd.DataFrame(test_nums, columns=X_test_nums.columns, index=X_test_nums.index)"
   ]
  },
  {
   "cell_type": "code",
   "execution_count": 23,
   "metadata": {},
   "outputs": [
    {
     "data": {
      "text/html": [
       "<div>\n",
       "<style scoped>\n",
       "    .dataframe tbody tr th:only-of-type {\n",
       "        vertical-align: middle;\n",
       "    }\n",
       "\n",
       "    .dataframe tbody tr th {\n",
       "        vertical-align: top;\n",
       "    }\n",
       "\n",
       "    .dataframe thead th {\n",
       "        text-align: right;\n",
       "    }\n",
       "</style>\n",
       "<table border=\"1\" class=\"dataframe\">\n",
       "  <thead>\n",
       "    <tr style=\"text-align: right;\">\n",
       "      <th></th>\n",
       "      <th>account length</th>\n",
       "      <th>number vmail messages</th>\n",
       "      <th>total day minutes</th>\n",
       "      <th>total day calls</th>\n",
       "      <th>total day charge</th>\n",
       "      <th>total eve minutes</th>\n",
       "      <th>total eve calls</th>\n",
       "      <th>total eve charge</th>\n",
       "      <th>total night minutes</th>\n",
       "      <th>total night calls</th>\n",
       "      <th>total night charge</th>\n",
       "      <th>total intl minutes</th>\n",
       "      <th>total intl calls</th>\n",
       "      <th>total intl charge</th>\n",
       "      <th>customer service calls</th>\n",
       "    </tr>\n",
       "  </thead>\n",
       "  <tbody>\n",
       "    <tr>\n",
       "      <th>817</th>\n",
       "      <td>3.601382</td>\n",
       "      <td>-0.584936</td>\n",
       "      <td>-1.547653</td>\n",
       "      <td>-0.429657</td>\n",
       "      <td>-1.547170</td>\n",
       "      <td>-0.729987</td>\n",
       "      <td>-1.840891</td>\n",
       "      <td>-0.731087</td>\n",
       "      <td>1.255804</td>\n",
       "      <td>0.925634</td>\n",
       "      <td>1.256197</td>\n",
       "      <td>-1.300791</td>\n",
       "      <td>0.634849</td>\n",
       "      <td>-1.304132</td>\n",
       "      <td>0.318978</td>\n",
       "    </tr>\n",
       "    <tr>\n",
       "      <th>1373</th>\n",
       "      <td>0.184951</td>\n",
       "      <td>-0.584936</td>\n",
       "      <td>-1.244014</td>\n",
       "      <td>0.224176</td>\n",
       "      <td>-1.244071</td>\n",
       "      <td>-0.138082</td>\n",
       "      <td>0.499864</td>\n",
       "      <td>-0.139179</td>\n",
       "      <td>0.165090</td>\n",
       "      <td>-0.353704</td>\n",
       "      <td>0.164841</td>\n",
       "      <td>-2.194793</td>\n",
       "      <td>-0.184370</td>\n",
       "      <td>-2.191525</td>\n",
       "      <td>1.813519</td>\n",
       "    </tr>\n",
       "    <tr>\n",
       "      <th>679</th>\n",
       "      <td>-0.650176</td>\n",
       "      <td>-0.584936</td>\n",
       "      <td>0.787609</td>\n",
       "      <td>-1.133785</td>\n",
       "      <td>0.787772</td>\n",
       "      <td>2.491952</td>\n",
       "      <td>0.549667</td>\n",
       "      <td>2.493068</td>\n",
       "      <td>0.147339</td>\n",
       "      <td>0.209205</td>\n",
       "      <td>0.147309</td>\n",
       "      <td>-0.549828</td>\n",
       "      <td>1.863677</td>\n",
       "      <td>-0.549186</td>\n",
       "      <td>-0.428293</td>\n",
       "    </tr>\n",
       "    <tr>\n",
       "      <th>56</th>\n",
       "      <td>1.020079</td>\n",
       "      <td>-0.584936</td>\n",
       "      <td>-0.969818</td>\n",
       "      <td>-0.127888</td>\n",
       "      <td>-0.970200</td>\n",
       "      <td>-0.408385</td>\n",
       "      <td>-1.890695</td>\n",
       "      <td>-0.408439</td>\n",
       "      <td>-1.178086</td>\n",
       "      <td>1.437368</td>\n",
       "      <td>-1.176344</td>\n",
       "      <td>-0.800149</td>\n",
       "      <td>-1.003589</td>\n",
       "      <td>-0.800835</td>\n",
       "      <td>-0.428293</td>\n",
       "    </tr>\n",
       "    <tr>\n",
       "      <th>1993</th>\n",
       "      <td>-0.371801</td>\n",
       "      <td>-0.584936</td>\n",
       "      <td>0.675354</td>\n",
       "      <td>-0.228477</td>\n",
       "      <td>0.675192</td>\n",
       "      <td>1.294330</td>\n",
       "      <td>-1.143645</td>\n",
       "      <td>1.295326</td>\n",
       "      <td>0.265680</td>\n",
       "      <td>0.516246</td>\n",
       "      <td>0.265649</td>\n",
       "      <td>-2.051753</td>\n",
       "      <td>-0.593980</td>\n",
       "      <td>-2.045833</td>\n",
       "      <td>-1.175564</td>\n",
       "    </tr>\n",
       "  </tbody>\n",
       "</table>\n",
       "</div>"
      ],
      "text/plain": [
       "      account length  number vmail messages  total day minutes  \\\n",
       "817         3.601382              -0.584936          -1.547653   \n",
       "1373        0.184951              -0.584936          -1.244014   \n",
       "679        -0.650176              -0.584936           0.787609   \n",
       "56          1.020079              -0.584936          -0.969818   \n",
       "1993       -0.371801              -0.584936           0.675354   \n",
       "\n",
       "      total day calls  total day charge  total eve minutes  total eve calls  \\\n",
       "817         -0.429657         -1.547170          -0.729987        -1.840891   \n",
       "1373         0.224176         -1.244071          -0.138082         0.499864   \n",
       "679         -1.133785          0.787772           2.491952         0.549667   \n",
       "56          -0.127888         -0.970200          -0.408385        -1.890695   \n",
       "1993        -0.228477          0.675192           1.294330        -1.143645   \n",
       "\n",
       "      total eve charge  total night minutes  total night calls  \\\n",
       "817          -0.731087             1.255804           0.925634   \n",
       "1373         -0.139179             0.165090          -0.353704   \n",
       "679           2.493068             0.147339           0.209205   \n",
       "56           -0.408439            -1.178086           1.437368   \n",
       "1993          1.295326             0.265680           0.516246   \n",
       "\n",
       "      total night charge  total intl minutes  total intl calls  \\\n",
       "817             1.256197           -1.300791          0.634849   \n",
       "1373            0.164841           -2.194793         -0.184370   \n",
       "679             0.147309           -0.549828          1.863677   \n",
       "56             -1.176344           -0.800149         -1.003589   \n",
       "1993            0.265649           -2.051753         -0.593980   \n",
       "\n",
       "      total intl charge  customer service calls  \n",
       "817           -1.304132                0.318978  \n",
       "1373          -2.191525                1.813519  \n",
       "679           -0.549186               -0.428293  \n",
       "56            -0.800835               -0.428293  \n",
       "1993          -2.045833               -1.175564  "
      ]
     },
     "execution_count": 23,
     "metadata": {},
     "output_type": "execute_result"
    }
   ],
   "source": [
    "nums_df.head()"
   ]
  },
  {
   "cell_type": "code",
   "execution_count": 24,
   "metadata": {
    "scrolled": true
   },
   "outputs": [
    {
     "data": {
      "text/html": [
       "<div>\n",
       "<style scoped>\n",
       "    .dataframe tbody tr th:only-of-type {\n",
       "        vertical-align: middle;\n",
       "    }\n",
       "\n",
       "    .dataframe tbody tr th {\n",
       "        vertical-align: top;\n",
       "    }\n",
       "\n",
       "    .dataframe thead th {\n",
       "        text-align: right;\n",
       "    }\n",
       "</style>\n",
       "<table border=\"1\" class=\"dataframe\">\n",
       "  <thead>\n",
       "    <tr style=\"text-align: right;\">\n",
       "      <th></th>\n",
       "      <th>account length</th>\n",
       "      <th>number vmail messages</th>\n",
       "      <th>total day minutes</th>\n",
       "      <th>total day calls</th>\n",
       "      <th>total day charge</th>\n",
       "      <th>total eve minutes</th>\n",
       "      <th>total eve calls</th>\n",
       "      <th>total eve charge</th>\n",
       "      <th>total night minutes</th>\n",
       "      <th>total night calls</th>\n",
       "      <th>...</th>\n",
       "      <th>x0_VA</th>\n",
       "      <th>x0_VT</th>\n",
       "      <th>x0_WA</th>\n",
       "      <th>x0_WI</th>\n",
       "      <th>x0_WV</th>\n",
       "      <th>x0_WY</th>\n",
       "      <th>x1_415</th>\n",
       "      <th>x1_510</th>\n",
       "      <th>x2_yes</th>\n",
       "      <th>x3_yes</th>\n",
       "    </tr>\n",
       "  </thead>\n",
       "  <tbody>\n",
       "    <tr>\n",
       "      <th>438</th>\n",
       "      <td>0.311486</td>\n",
       "      <td>-0.584936</td>\n",
       "      <td>-0.452712</td>\n",
       "      <td>-0.379362</td>\n",
       "      <td>-0.452767</td>\n",
       "      <td>2.562980</td>\n",
       "      <td>0.300651</td>\n",
       "      <td>2.562705</td>\n",
       "      <td>-0.219520</td>\n",
       "      <td>1.181501</td>\n",
       "      <td>...</td>\n",
       "      <td>0.0</td>\n",
       "      <td>0.0</td>\n",
       "      <td>0.0</td>\n",
       "      <td>0.0</td>\n",
       "      <td>0.0</td>\n",
       "      <td>1.0</td>\n",
       "      <td>0.0</td>\n",
       "      <td>1.0</td>\n",
       "      <td>0.0</td>\n",
       "      <td>0.0</td>\n",
       "    </tr>\n",
       "    <tr>\n",
       "      <th>2674</th>\n",
       "      <td>-0.852632</td>\n",
       "      <td>-0.584936</td>\n",
       "      <td>-1.297381</td>\n",
       "      <td>0.827714</td>\n",
       "      <td>-1.297113</td>\n",
       "      <td>0.329524</td>\n",
       "      <td>1.197110</td>\n",
       "      <td>0.329704</td>\n",
       "      <td>-0.239243</td>\n",
       "      <td>2.102624</td>\n",
       "      <td>...</td>\n",
       "      <td>0.0</td>\n",
       "      <td>0.0</td>\n",
       "      <td>0.0</td>\n",
       "      <td>0.0</td>\n",
       "      <td>0.0</td>\n",
       "      <td>0.0</td>\n",
       "      <td>1.0</td>\n",
       "      <td>0.0</td>\n",
       "      <td>0.0</td>\n",
       "      <td>0.0</td>\n",
       "    </tr>\n",
       "    <tr>\n",
       "      <th>1345</th>\n",
       "      <td>-0.068118</td>\n",
       "      <td>-0.584936</td>\n",
       "      <td>-3.305080</td>\n",
       "      <td>-5.056782</td>\n",
       "      <td>-3.305141</td>\n",
       "      <td>-0.810881</td>\n",
       "      <td>1.495930</td>\n",
       "      <td>-0.810008</td>\n",
       "      <td>-0.659356</td>\n",
       "      <td>-0.609571</td>\n",
       "      <td>...</td>\n",
       "      <td>0.0</td>\n",
       "      <td>0.0</td>\n",
       "      <td>0.0</td>\n",
       "      <td>0.0</td>\n",
       "      <td>0.0</td>\n",
       "      <td>0.0</td>\n",
       "      <td>1.0</td>\n",
       "      <td>0.0</td>\n",
       "      <td>0.0</td>\n",
       "      <td>0.0</td>\n",
       "    </tr>\n",
       "    <tr>\n",
       "      <th>1957</th>\n",
       "      <td>1.171920</td>\n",
       "      <td>-0.584936</td>\n",
       "      <td>0.610946</td>\n",
       "      <td>-1.083490</td>\n",
       "      <td>0.611325</td>\n",
       "      <td>0.067112</td>\n",
       "      <td>-0.446399</td>\n",
       "      <td>0.067408</td>\n",
       "      <td>-0.874343</td>\n",
       "      <td>0.669766</td>\n",
       "      <td>...</td>\n",
       "      <td>0.0</td>\n",
       "      <td>0.0</td>\n",
       "      <td>0.0</td>\n",
       "      <td>0.0</td>\n",
       "      <td>0.0</td>\n",
       "      <td>0.0</td>\n",
       "      <td>0.0</td>\n",
       "      <td>0.0</td>\n",
       "      <td>0.0</td>\n",
       "      <td>0.0</td>\n",
       "    </tr>\n",
       "    <tr>\n",
       "      <th>2148</th>\n",
       "      <td>-0.118732</td>\n",
       "      <td>-0.584936</td>\n",
       "      <td>-0.655138</td>\n",
       "      <td>0.073292</td>\n",
       "      <td>-0.655194</td>\n",
       "      <td>0.473554</td>\n",
       "      <td>-1.342858</td>\n",
       "      <td>0.473619</td>\n",
       "      <td>0.535893</td>\n",
       "      <td>-0.456051</td>\n",
       "      <td>...</td>\n",
       "      <td>0.0</td>\n",
       "      <td>0.0</td>\n",
       "      <td>0.0</td>\n",
       "      <td>0.0</td>\n",
       "      <td>0.0</td>\n",
       "      <td>1.0</td>\n",
       "      <td>0.0</td>\n",
       "      <td>0.0</td>\n",
       "      <td>0.0</td>\n",
       "      <td>0.0</td>\n",
       "    </tr>\n",
       "  </tbody>\n",
       "</table>\n",
       "<p>5 rows × 69 columns</p>\n",
       "</div>"
      ],
      "text/plain": [
       "      account length  number vmail messages  total day minutes  \\\n",
       "438         0.311486              -0.584936          -0.452712   \n",
       "2674       -0.852632              -0.584936          -1.297381   \n",
       "1345       -0.068118              -0.584936          -3.305080   \n",
       "1957        1.171920              -0.584936           0.610946   \n",
       "2148       -0.118732              -0.584936          -0.655138   \n",
       "\n",
       "      total day calls  total day charge  total eve minutes  total eve calls  \\\n",
       "438         -0.379362         -0.452767           2.562980         0.300651   \n",
       "2674         0.827714         -1.297113           0.329524         1.197110   \n",
       "1345        -5.056782         -3.305141          -0.810881         1.495930   \n",
       "1957        -1.083490          0.611325           0.067112        -0.446399   \n",
       "2148         0.073292         -0.655194           0.473554        -1.342858   \n",
       "\n",
       "      total eve charge  total night minutes  total night calls  ...  x0_VA  \\\n",
       "438           2.562705            -0.219520           1.181501  ...    0.0   \n",
       "2674          0.329704            -0.239243           2.102624  ...    0.0   \n",
       "1345         -0.810008            -0.659356          -0.609571  ...    0.0   \n",
       "1957          0.067408            -0.874343           0.669766  ...    0.0   \n",
       "2148          0.473619             0.535893          -0.456051  ...    0.0   \n",
       "\n",
       "      x0_VT  x0_WA  x0_WI  x0_WV  x0_WY  x1_415  x1_510  x2_yes  x3_yes  \n",
       "438     0.0    0.0    0.0    0.0    1.0     0.0     1.0     0.0     0.0  \n",
       "2674    0.0    0.0    0.0    0.0    0.0     1.0     0.0     0.0     0.0  \n",
       "1345    0.0    0.0    0.0    0.0    0.0     1.0     0.0     0.0     0.0  \n",
       "1957    0.0    0.0    0.0    0.0    0.0     0.0     0.0     0.0     0.0  \n",
       "2148    0.0    0.0    0.0    0.0    1.0     0.0     0.0     0.0     0.0  \n",
       "\n",
       "[5 rows x 69 columns]"
      ]
     },
     "execution_count": 24,
     "metadata": {},
     "output_type": "execute_result"
    }
   ],
   "source": [
    "#create a new test df with the numeric and categorical predictors\n",
    "X_test_clean = pd.concat([test_nums_df, test_dums_df], axis=1)\n",
    "\n",
    "#preview the final test df\n",
    "X_test_clean.head()"
   ]
  },
  {
   "cell_type": "markdown",
   "metadata": {},
   "source": [
    "Now that we have our data ready to go, let's begin our modeling.\n",
    "\n",
    "## Modeling\n",
    "### Logistic Regression\n",
    "We'll begin our modeling with a baseline model using a Logistic Regression model. This works by adjusting the coefficients of the predictors using gradient descent. Which attempts to minimize the difference between predicted probabilities and the binary values."
   ]
  },
  {
   "cell_type": "code",
   "execution_count": 25,
   "metadata": {},
   "outputs": [
    {
     "data": {
      "text/plain": [
       "LogisticRegression(random_state=42)"
      ]
     },
     "execution_count": 25,
     "metadata": {},
     "output_type": "execute_result"
    }
   ],
   "source": [
    "#Initiate LogisticRegression with random_state of 42 for reproduction\n",
    "lr = LogisticRegression(random_state=42)\n",
    "\n",
    "#fit the regressor to our preprocessed data\n",
    "lr.fit(X_train_clean, y_train)"
   ]
  },
  {
   "cell_type": "markdown",
   "metadata": {},
   "source": [
    "Let's split up the training data into folds and test the accuracy of the regressor on the data"
   ]
  },
  {
   "cell_type": "code",
   "execution_count": 26,
   "metadata": {},
   "outputs": [
    {
     "data": {
      "text/plain": [
       "array([0.86142322, 0.86891386, 0.87265918, 0.86516854, 0.86142322,\n",
       "       0.86142322, 0.84210526, 0.84962406, 0.84586466, 0.87593985])"
      ]
     },
     "execution_count": 26,
     "metadata": {},
     "output_type": "execute_result"
    }
   ],
   "source": [
    "#run cross_val_scores using our LogisticRegressor, using 10 folds\n",
    "scores = cross_val_score(estimator=lr, X = X_train_clean, y= y_train, cv=10)\n",
    "\n",
    "#preview the scores\n",
    "scores"
   ]
  },
  {
   "cell_type": "code",
   "execution_count": 27,
   "metadata": {
    "scrolled": true
   },
   "outputs": [
    {
     "data": {
      "text/plain": [
       "0.8614232209737828"
      ]
     },
     "execution_count": 27,
     "metadata": {},
     "output_type": "execute_result"
    }
   ],
   "source": [
    "#pull up the median score\n",
    "np.median(scores)"
   ]
  },
  {
   "cell_type": "markdown",
   "metadata": {},
   "source": [
    "Now let's test our on model on the testing data"
   ]
  },
  {
   "cell_type": "code",
   "execution_count": 28,
   "metadata": {},
   "outputs": [
    {
     "data": {
      "text/plain": [
       "0.8530734632683659"
      ]
     },
     "execution_count": 28,
     "metadata": {},
     "output_type": "execute_result"
    }
   ],
   "source": [
    "#test our model on the test data\n",
    "lr.score(X_test_clean, y_test)"
   ]
  },
  {
   "cell_type": "markdown",
   "metadata": {},
   "source": [
    "Given an accuracy within one of our training data, we see that there isn't an issue of overfitting here. Before moving on to try to improve our model, let's do the same thing in a pipeline to make the code more manageable. "
   ]
  },
  {
   "cell_type": "markdown",
   "metadata": {},
   "source": [
    "### Logistic Regression Pipeline"
   ]
  },
  {
   "cell_type": "code",
   "execution_count": 29,
   "metadata": {},
   "outputs": [],
   "source": [
    "#create df with categorical predictors\n",
    "df_cat = X_train.select_dtypes(include=['object'])\n",
    "\n",
    "# create df with numeric predictors\n",
    "df_num = X_train.select_dtypes(include=['int64', 'float64'])"
   ]
  },
  {
   "cell_type": "code",
   "execution_count": 30,
   "metadata": {},
   "outputs": [],
   "source": [
    "#initiate a pipeline using scaler for our numeric df\n",
    "num_pipe = Pipeline(steps=[('ss', StandardScaler())])\n",
    "\n",
    "#initiate a pipeline using ohe for our categorical df\n",
    "cat_pipe = Pipeline(steps=[('ohe', OneHotEncoder(drop='first', sparse=False))])\n",
    "\n",
    "# create a transformer that combines these pipelines\n",
    "transformer = ColumnTransformer(transformers=[\n",
    "    ('numerical', num_pipe, df_num.columns),\n",
    "    ('categorical', cat_pipe, df_cat.columns)\n",
    "])"
   ]
  },
  {
   "cell_type": "code",
   "execution_count": 31,
   "metadata": {},
   "outputs": [
    {
     "data": {
      "text/plain": [
       "Pipeline(steps=[('transformer',\n",
       "                 ColumnTransformer(transformers=[('numerical',\n",
       "                                                  Pipeline(steps=[('ss',\n",
       "                                                                   StandardScaler())]),\n",
       "                                                  Index(['account length', 'number vmail messages', 'total day minutes',\n",
       "       'total day calls', 'total day charge', 'total eve minutes',\n",
       "       'total eve calls', 'total eve charge', 'total night minutes',\n",
       "       'total night calls', 'total night charge', 'total intl minutes',\n",
       "       'total intl calls', 'total intl charge', 'customer service calls'],\n",
       "      dtype='object')),\n",
       "                                                 ('categorical',\n",
       "                                                  Pipeline(steps=[('ohe',\n",
       "                                                                   OneHotEncoder(drop='first',\n",
       "                                                                                 sparse=False))]),\n",
       "                                                  Index(['state', 'area code', 'international plan', 'voice mail plan'], dtype='object'))])),\n",
       "                ('lr', LogisticRegression(random_state=42))])"
      ]
     },
     "execution_count": 31,
     "metadata": {},
     "output_type": "execute_result"
    }
   ],
   "source": [
    "#combine the transformer with our regression model into a new pipeline\n",
    "model_pipe_lr = Pipeline(steps=[\n",
    "    ('transformer', transformer),\n",
    "    ('lr', LogisticRegression(random_state=42))\n",
    "])\n",
    "\n",
    "#fit the pipeline on the data\n",
    "model_pipe_lr.fit(X_train, y_train)"
   ]
  },
  {
   "cell_type": "code",
   "execution_count": 32,
   "metadata": {},
   "outputs": [
    {
     "data": {
      "text/plain": [
       "0.872093023255814"
      ]
     },
     "execution_count": 32,
     "metadata": {},
     "output_type": "execute_result"
    }
   ],
   "source": [
    "# get the accuracy score of the model\n",
    "model_pipe_lr.score(X_train, y_train)"
   ]
  },
  {
   "cell_type": "code",
   "execution_count": 33,
   "metadata": {},
   "outputs": [
    {
     "data": {
      "text/plain": [
       "0.8530734632683659"
      ]
     },
     "execution_count": 33,
     "metadata": {},
     "output_type": "execute_result"
    }
   ],
   "source": [
    "#get the model score on our testing dataset\n",
    "model_pipe_lr.score(X_test, y_test)"
   ]
  },
  {
   "cell_type": "markdown",
   "metadata": {},
   "source": [
    "Let's move on to create our next model"
   ]
  },
  {
   "cell_type": "markdown",
   "metadata": {},
   "source": [
    "### KNN\n",
    "\n",
    "This model makes predictions on the new data based on its similarity to the existing \"nearby\" data. We will be using a classifier as the the target variable is categorical."
   ]
  },
  {
   "cell_type": "code",
   "execution_count": 34,
   "metadata": {},
   "outputs": [
    {
     "data": {
      "text/plain": [
       "KNeighborsClassifier()"
      ]
     },
     "execution_count": 34,
     "metadata": {},
     "output_type": "execute_result"
    }
   ],
   "source": [
    "#initiate KNeighborsClassifier()\n",
    "knn = KNeighborsClassifier()\n",
    "\n",
    "#fit the classifier\n",
    "knn.fit(X_train_clean, y_train)"
   ]
  },
  {
   "cell_type": "code",
   "execution_count": 35,
   "metadata": {},
   "outputs": [
    {
     "data": {
      "text/plain": [
       "array([0.87640449, 0.86516854, 0.88764045, 0.88389513, 0.88389513,\n",
       "       0.89138577, 0.86842105, 0.87218045, 0.87969925, 0.90225564])"
      ]
     },
     "execution_count": 35,
     "metadata": {},
     "output_type": "execute_result"
    }
   ],
   "source": [
    "#run cross_val_scores using our knn, using 10 folds\n",
    "scores = cross_val_score(estimator=knn, X = X_train_clean, y= y_train, cv=10)\n",
    "\n",
    "#preview the score\n",
    "scores"
   ]
  },
  {
   "cell_type": "code",
   "execution_count": 36,
   "metadata": {
    "scrolled": true
   },
   "outputs": [
    {
     "data": {
      "text/plain": [
       "0.8817971896032215"
      ]
     },
     "execution_count": 36,
     "metadata": {},
     "output_type": "execute_result"
    }
   ],
   "source": [
    "#pull up median score\n",
    "np.median(scores)"
   ]
  },
  {
   "cell_type": "code",
   "execution_count": 37,
   "metadata": {
    "scrolled": true
   },
   "outputs": [
    {
     "data": {
      "text/plain": [
       "0.8935532233883059"
      ]
     },
     "execution_count": 37,
     "metadata": {},
     "output_type": "execute_result"
    }
   ],
   "source": [
    "#see how it runs on the testing data\n",
    "knn.score(X_test_clean, y_test)"
   ]
  },
  {
   "cell_type": "markdown",
   "metadata": {},
   "source": [
    "Since this is very similar to the score for the training data we can say that the model is not overfitting.\n",
    "\n",
    "Let's now run a GridSearch to test out what the optimal model would be for our data"
   ]
  },
  {
   "cell_type": "code",
   "execution_count": 38,
   "metadata": {},
   "outputs": [],
   "source": [
    "#create grid, with different neighbor, metric, and weight options\n",
    "grid = {\n",
    "    'n_neighbors': [3 ,5 , 11],\n",
    "    'metric': ['manhattan', 'minkowski'],\n",
    "    'weights': ['uniform', 'distance']\n",
    "}"
   ]
  },
  {
   "cell_type": "code",
   "execution_count": 39,
   "metadata": {},
   "outputs": [],
   "source": [
    "#initiate the GridSearchCV()\n",
    "gs = GridSearchCV(estimator=knn, param_grid= grid, cv=5)"
   ]
  },
  {
   "cell_type": "code",
   "execution_count": 40,
   "metadata": {},
   "outputs": [
    {
     "data": {
      "text/plain": [
       "GridSearchCV(cv=5, estimator=KNeighborsClassifier(),\n",
       "             param_grid={'metric': ['manhattan', 'minkowski'],\n",
       "                         'n_neighbors': [3, 5, 11],\n",
       "                         'weights': ['uniform', 'distance']})"
      ]
     },
     "execution_count": 40,
     "metadata": {},
     "output_type": "execute_result"
    }
   ],
   "source": [
    "#fit the gs\n",
    "gs.fit(X_train_clean, y_train)"
   ]
  },
  {
   "cell_type": "code",
   "execution_count": 41,
   "metadata": {
    "scrolled": true
   },
   "outputs": [
    {
     "data": {
      "text/plain": [
       "{'metric': 'minkowski', 'n_neighbors': 5, 'weights': 'uniform'}"
      ]
     },
     "execution_count": 41,
     "metadata": {},
     "output_type": "execute_result"
    }
   ],
   "source": [
    "#pull up the best parameters\n",
    "gs.best_params_"
   ]
  },
  {
   "cell_type": "markdown",
   "metadata": {},
   "source": [
    "This happens to be the same as our default/ original model"
   ]
  },
  {
   "cell_type": "code",
   "execution_count": 42,
   "metadata": {
    "scrolled": true
   },
   "outputs": [
    {
     "data": {
      "text/plain": [
       "0.8935532233883059"
      ]
     },
     "execution_count": 42,
     "metadata": {},
     "output_type": "execute_result"
    }
   ],
   "source": [
    "#run the model on our testing set and pull up the score\n",
    "gs.best_estimator_.score(X_test_clean, y_test)"
   ]
  },
  {
   "cell_type": "markdown",
   "metadata": {},
   "source": [
    "### Pipeline for knn\n",
    "Again lets create a pipeline for the above"
   ]
  },
  {
   "cell_type": "code",
   "execution_count": 43,
   "metadata": {},
   "outputs": [
    {
     "data": {
      "text/plain": [
       "Pipeline(steps=[('transformer',\n",
       "                 ColumnTransformer(transformers=[('numerical',\n",
       "                                                  Pipeline(steps=[('ss',\n",
       "                                                                   StandardScaler())]),\n",
       "                                                  Index(['account length', 'number vmail messages', 'total day minutes',\n",
       "       'total day calls', 'total day charge', 'total eve minutes',\n",
       "       'total eve calls', 'total eve charge', 'total night minutes',\n",
       "       'total night calls', 'total night charge', 'total intl minutes',\n",
       "       'total intl calls', 'total intl charge', 'customer service calls'],\n",
       "      dtype='object')),\n",
       "                                                 ('categorical',\n",
       "                                                  Pipeline(steps=[('ohe',\n",
       "                                                                   OneHotEncoder(drop='first',\n",
       "                                                                                 sparse=False))]),\n",
       "                                                  Index(['state', 'area code', 'international plan', 'voice mail plan'], dtype='object'))])),\n",
       "                ('knn', KNeighborsClassifier())])"
      ]
     },
     "execution_count": 43,
     "metadata": {},
     "output_type": "execute_result"
    }
   ],
   "source": [
    "#create pipeline with transformer and knn\n",
    "model_pipe_knn = Pipeline(steps=[\n",
    "    ('transformer', transformer),\n",
    "    ('knn', KNeighborsClassifier())\n",
    "])\n",
    "\n",
    "#fit the pipeline on X_train\n",
    "model_pipe_knn.fit(X_train, y_train)"
   ]
  },
  {
   "cell_type": "code",
   "execution_count": 44,
   "metadata": {},
   "outputs": [
    {
     "data": {
      "text/plain": [
       "0.9036009002250562"
      ]
     },
     "execution_count": 44,
     "metadata": {},
     "output_type": "execute_result"
    }
   ],
   "source": [
    "# get the accuracy score for the pipeline\n",
    "model_pipe_knn.score(X_train, y_train)"
   ]
  },
  {
   "cell_type": "code",
   "execution_count": 45,
   "metadata": {},
   "outputs": [
    {
     "data": {
      "text/plain": [
       "0.8935532233883059"
      ]
     },
     "execution_count": 45,
     "metadata": {},
     "output_type": "execute_result"
    }
   ],
   "source": [
    "# get the score of the pipeline on the testing data\n",
    "model_pipe_knn.score(X_test, y_test)"
   ]
  },
  {
   "cell_type": "code",
   "execution_count": 46,
   "metadata": {},
   "outputs": [
    {
     "data": {
      "text/plain": [
       "{'knn__metric': 'manhattan', 'knn__n_neighbors': 3, 'knn__weights': 'uniform'}"
      ]
     },
     "execution_count": 46,
     "metadata": {},
     "output_type": "execute_result"
    }
   ],
   "source": [
    "#create a grid for a grid search for the pipeline\n",
    "param_grid = {\n",
    "    'knn__n_neighbors': [3, 5, 11],\n",
    "    'knn__metric': ['manhattan', 'minkowski'],\n",
    "    'knn__weights': ['uniform', 'distance']\n",
    "}\n",
    "\n",
    "#initiate the gridsearch with 5 folds\n",
    "gs = GridSearchCV(model_pipe_knn, param_grid=param_grid, cv=5)\n",
    "\n",
    "# fit the gs\n",
    "gs.fit(X_train, y_train)\n",
    "\n",
    "#pull up the best parameters\n",
    "gs.best_params_"
   ]
  },
  {
   "cell_type": "code",
   "execution_count": 47,
   "metadata": {},
   "outputs": [
    {
     "data": {
      "text/plain": [
       "0.8875562218890555"
      ]
     },
     "execution_count": 47,
     "metadata": {},
     "output_type": "execute_result"
    }
   ],
   "source": [
    "# run the model on the testing data\n",
    "gs.best_estimator_.score(X_test, y_test)"
   ]
  },
  {
   "cell_type": "markdown",
   "metadata": {},
   "source": [
    "Now let's create a Decision Tree Classifier"
   ]
  },
  {
   "cell_type": "markdown",
   "metadata": {},
   "source": [
    "### Decision Trees\n",
    "The model predicts based on splitting the data into nodes based on features. At each node the data selected the feature that best splits the data based on criterion chosen."
   ]
  },
  {
   "cell_type": "code",
   "execution_count": 48,
   "metadata": {},
   "outputs": [
    {
     "data": {
      "text/plain": [
       "DecisionTreeClassifier(random_state=42)"
      ]
     },
     "execution_count": 48,
     "metadata": {},
     "output_type": "execute_result"
    }
   ],
   "source": [
    "#initiate classifier\n",
    "clf = DecisionTreeClassifier(random_state=42)\n",
    "\n",
    "#fit the classifier\n",
    "clf.fit(X_train_clean, y_train)"
   ]
  },
  {
   "cell_type": "code",
   "execution_count": 49,
   "metadata": {},
   "outputs": [
    {
     "data": {
      "text/plain": [
       "1.0"
      ]
     },
     "execution_count": 49,
     "metadata": {},
     "output_type": "execute_result"
    }
   ],
   "source": [
    "#get score on the training data\n",
    "clf.score(X_train_clean, y_train)"
   ]
  },
  {
   "cell_type": "code",
   "execution_count": 50,
   "metadata": {},
   "outputs": [
    {
     "data": {
      "text/plain": [
       "0.9280359820089955"
      ]
     },
     "execution_count": 50,
     "metadata": {},
     "output_type": "execute_result"
    }
   ],
   "source": [
    "#pull up score for the test data\n",
    "clf.score(X_test_clean, y_test)"
   ]
  },
  {
   "cell_type": "markdown",
   "metadata": {},
   "source": [
    "Although, this decision tree was slightly overfit it still has been the best predictor yet."
   ]
  },
  {
   "cell_type": "code",
   "execution_count": 51,
   "metadata": {},
   "outputs": [],
   "source": [
    "#create grid for grid search\n",
    "param_grid = {\n",
    "    'criterion': ['gini', 'entropy'],\n",
    "    'max_depth': [None, 3, 5, 7, 9],\n",
    "    'min_samples_split': [2, 5, 10],\n",
    "    'min_samples_leaf': [1, 2, 4],\n",
    "}"
   ]
  },
  {
   "cell_type": "code",
   "execution_count": 52,
   "metadata": {},
   "outputs": [],
   "source": [
    "#initiate gs\n",
    "gs = GridSearchCV(clf, param_grid=param_grid, cv=5)"
   ]
  },
  {
   "cell_type": "code",
   "execution_count": 53,
   "metadata": {},
   "outputs": [
    {
     "data": {
      "text/plain": [
       "GridSearchCV(cv=5, estimator=DecisionTreeClassifier(random_state=42),\n",
       "             param_grid={'criterion': ['gini', 'entropy'],\n",
       "                         'max_depth': [None, 3, 5, 7, 9],\n",
       "                         'min_samples_leaf': [1, 2, 4],\n",
       "                         'min_samples_split': [2, 5, 10]})"
      ]
     },
     "execution_count": 53,
     "metadata": {},
     "output_type": "execute_result"
    }
   ],
   "source": [
    "#fit the gs\n",
    "gs.fit(X_train_clean, y_train)"
   ]
  },
  {
   "cell_type": "code",
   "execution_count": 54,
   "metadata": {},
   "outputs": [
    {
     "data": {
      "text/plain": [
       "{'criterion': 'entropy',\n",
       " 'max_depth': 7,\n",
       " 'min_samples_leaf': 2,\n",
       " 'min_samples_split': 10}"
      ]
     },
     "execution_count": 54,
     "metadata": {},
     "output_type": "execute_result"
    }
   ],
   "source": [
    "#pull up best parameters\n",
    "gs.best_params_"
   ]
  },
  {
   "cell_type": "code",
   "execution_count": 55,
   "metadata": {
    "scrolled": false
   },
   "outputs": [
    {
     "data": {
      "text/plain": [
       "0.9385307346326837"
      ]
     },
     "execution_count": 55,
     "metadata": {},
     "output_type": "execute_result"
    }
   ],
   "source": [
    "# run the gs on the test data\n",
    "gs.best_estimator_.score(X_test_clean, y_test)"
   ]
  },
  {
   "cell_type": "markdown",
   "metadata": {},
   "source": [
    "Let's again create a pipeline for the above process\n",
    "### Pipeline for Decision Tree"
   ]
  },
  {
   "cell_type": "code",
   "execution_count": 56,
   "metadata": {},
   "outputs": [],
   "source": [
    "# initiate pipeline with tranformer and Decision Tree\n",
    "model_pipe_tree = Pipeline(steps=[\n",
    "    ('transformer', transformer),\n",
    "    ('dt', DecisionTreeClassifier(random_state=42))\n",
    "]) "
   ]
  },
  {
   "cell_type": "code",
   "execution_count": 57,
   "metadata": {},
   "outputs": [
    {
     "data": {
      "text/plain": [
       "Pipeline(steps=[('transformer',\n",
       "                 ColumnTransformer(transformers=[('numerical',\n",
       "                                                  Pipeline(steps=[('ss',\n",
       "                                                                   StandardScaler())]),\n",
       "                                                  Index(['account length', 'number vmail messages', 'total day minutes',\n",
       "       'total day calls', 'total day charge', 'total eve minutes',\n",
       "       'total eve calls', 'total eve charge', 'total night minutes',\n",
       "       'total night calls', 'total night charge', 'total intl minutes',\n",
       "       'total intl calls', 'total intl charge', 'customer service calls'],\n",
       "      dtype='object')),\n",
       "                                                 ('categorical',\n",
       "                                                  Pipeline(steps=[('ohe',\n",
       "                                                                   OneHotEncoder(drop='first',\n",
       "                                                                                 sparse=False))]),\n",
       "                                                  Index(['state', 'area code', 'international plan', 'voice mail plan'], dtype='object'))])),\n",
       "                ('dt', DecisionTreeClassifier(random_state=42))])"
      ]
     },
     "execution_count": 57,
     "metadata": {},
     "output_type": "execute_result"
    }
   ],
   "source": [
    "#fit the pipeline\n",
    "model_pipe_tree.fit(X_train, y_train)"
   ]
  },
  {
   "cell_type": "code",
   "execution_count": 58,
   "metadata": {},
   "outputs": [
    {
     "data": {
      "text/plain": [
       "1.0"
      ]
     },
     "execution_count": 58,
     "metadata": {},
     "output_type": "execute_result"
    }
   ],
   "source": [
    "#score the pipeline on the training data\n",
    "model_pipe_tree.score(X_train, y_train)"
   ]
  },
  {
   "cell_type": "code",
   "execution_count": 59,
   "metadata": {},
   "outputs": [
    {
     "data": {
      "text/plain": [
       "0.9280359820089955"
      ]
     },
     "execution_count": 59,
     "metadata": {},
     "output_type": "execute_result"
    }
   ],
   "source": [
    "# score the pipeline on the testing data\n",
    "model_pipe_tree.score(X_test, y_test)"
   ]
  },
  {
   "cell_type": "code",
   "execution_count": 60,
   "metadata": {},
   "outputs": [],
   "source": [
    "# Define the grid to search over\n",
    "param_grid = {\n",
    "    'dt__criterion': ['gini', 'entropy'],\n",
    "    'dt__max_depth': [None, 3, 5, 7, 9],\n",
    "    'dt__min_samples_split': [2, 5, 10],\n",
    "    'dt__min_samples_leaf': [1, 2, 4],\n",
    "}"
   ]
  },
  {
   "cell_type": "code",
   "execution_count": 61,
   "metadata": {
    "scrolled": false
   },
   "outputs": [
    {
     "name": "stdout",
     "output_type": "stream",
     "text": [
      "Best parameters:  {'dt__criterion': 'entropy', 'dt__max_depth': 7, 'dt__min_samples_leaf': 2, 'dt__min_samples_split': 10}\n",
      "Best score:  0.9403594943468881\n"
     ]
    }
   ],
   "source": [
    "# Create a GridSearch object\n",
    "grid_search = GridSearchCV(\n",
    "    estimator=model_pipe_tree,\n",
    "    param_grid=param_grid,\n",
    "    cv=5,\n",
    "    n_jobs=-1\n",
    ")\n",
    "\n",
    "# Fit the gs to the training data\n",
    "grid_search.fit(X_train, y_train)\n",
    "\n",
    "# Print the best hyperparameters and corresponding score\n",
    "print(\"Best parameters: \", grid_search.best_params_)\n",
    "print(\"Best score: \", grid_search.best_score_)"
   ]
  },
  {
   "cell_type": "markdown",
   "metadata": {},
   "source": [
    "Let's move on to another classifier\n",
    "\n",
    "### Voting Classifier\n",
    "\n",
    "This classifier combines all the above predictors, fits each one on the data, and then uses the majority prediction as its final prediction"
   ]
  },
  {
   "cell_type": "code",
   "execution_count": 62,
   "metadata": {},
   "outputs": [
    {
     "data": {
      "text/plain": [
       "VotingClassifier(estimators=[('lr', LogisticRegression()),\n",
       "                             ('knn', KNeighborsClassifier()),\n",
       "                             ('dt',\n",
       "                              DecisionTreeClassifier(criterion='entropy',\n",
       "                                                     max_depth=7,\n",
       "                                                     min_samples_leaf=2,\n",
       "                                                     min_samples_split=10))])"
      ]
     },
     "execution_count": 62,
     "metadata": {},
     "output_type": "execute_result"
    }
   ],
   "source": [
    "#initiate the VotingClassifier() using logistic regression, knn, and DecisionTree\n",
    "w_avg = VotingClassifier(estimators=[\n",
    "    ('lr', LogisticRegression()), \n",
    "    ('knn', KNeighborsClassifier(metric= 'minkowski', \n",
    "                                 n_neighbors= 5, \n",
    "                                 weights= 'uniform')),\n",
    "    ('dt', DecisionTreeClassifier(criterion= 'entropy',\n",
    "                                  max_depth= 7,\n",
    "                                  min_samples_leaf= 2,\n",
    "                                  min_samples_split= 10))\n",
    "])\n",
    "\n",
    "#fit the predictor\n",
    "w_avg.fit(X_train_clean, y_train)"
   ]
  },
  {
   "cell_type": "code",
   "execution_count": 63,
   "metadata": {},
   "outputs": [
    {
     "data": {
      "text/plain": [
       "array([0.89513109, 0.89868668, 0.90243902, 0.87617261, 0.9043152 ])"
      ]
     },
     "execution_count": 63,
     "metadata": {},
     "output_type": "execute_result"
    }
   ],
   "source": [
    "#Run a cross_val_score with 5 folds, on the model. Then preview the scores\n",
    "scores = cross_val_score(estimator=w_avg, X=X_train_clean, y=y_train, cv=5)\n",
    "scores"
   ]
  },
  {
   "cell_type": "code",
   "execution_count": 64,
   "metadata": {},
   "outputs": [
    {
     "data": {
      "text/plain": [
       "0.8986866791744841"
      ]
     },
     "execution_count": 64,
     "metadata": {},
     "output_type": "execute_result"
    }
   ],
   "source": [
    "#pull up the median score\n",
    "np.median(scores)"
   ]
  },
  {
   "cell_type": "code",
   "execution_count": 65,
   "metadata": {},
   "outputs": [
    {
     "data": {
      "text/plain": [
       "0.9208552138034508"
      ]
     },
     "execution_count": 65,
     "metadata": {},
     "output_type": "execute_result"
    }
   ],
   "source": [
    "# score the model on the training data\n",
    "w_avg.score(X_train_clean, y_train)"
   ]
  },
  {
   "cell_type": "code",
   "execution_count": 66,
   "metadata": {
    "scrolled": true
   },
   "outputs": [
    {
     "data": {
      "text/plain": [
       "0.9070464767616192"
      ]
     },
     "execution_count": 66,
     "metadata": {},
     "output_type": "execute_result"
    }
   ],
   "source": [
    "# score the model on the testing data\n",
    "w_avg.score(X_test_clean, y_test)"
   ]
  },
  {
   "cell_type": "markdown",
   "metadata": {},
   "source": [
    "Given that DecisionTree is the best model of all 3, let's try and rerun the model with re-weighting. Meaning we will give more vote to the decision tree model in prediction the results"
   ]
  },
  {
   "cell_type": "code",
   "execution_count": 67,
   "metadata": {
    "scrolled": true
   },
   "outputs": [
    {
     "data": {
      "text/plain": [
       "VotingClassifier(estimators=[('lr', LogisticRegression()),\n",
       "                             ('knn', KNeighborsClassifier()),\n",
       "                             ('dt',\n",
       "                              DecisionTreeClassifier(criterion='entropy',\n",
       "                                                     max_depth=7,\n",
       "                                                     min_samples_leaf=2,\n",
       "                                                     min_samples_split=10))],\n",
       "                 weights=[0.2, 0.3, 0.5])"
      ]
     },
     "execution_count": 67,
     "metadata": {},
     "output_type": "execute_result"
    }
   ],
   "source": [
    "# re-initiate model with new weights: lr: .2, knn: .3, and dt: .5\n",
    "w_avg = VotingClassifier(estimators=[\n",
    "    ('lr', LogisticRegression()), \n",
    "    ('knn', KNeighborsClassifier(metric= 'minkowski', \n",
    "                                 n_neighbors= 5, \n",
    "                                 weights= 'uniform')),\n",
    "    ('dt', DecisionTreeClassifier(criterion= 'entropy',\n",
    "                                  max_depth= 7,\n",
    "                                  min_samples_leaf= 2,\n",
    "                                  min_samples_split= 10))],\n",
    "    weights=[.2, .3, .5]\n",
    ")\n",
    "\n",
    "#fit the model on the training data\n",
    "w_avg.fit(X_train_clean, y_train)"
   ]
  },
  {
   "cell_type": "code",
   "execution_count": 68,
   "metadata": {},
   "outputs": [
    {
     "data": {
      "text/plain": [
       "0.9204801200300075"
      ]
     },
     "execution_count": 68,
     "metadata": {},
     "output_type": "execute_result"
    }
   ],
   "source": [
    "#score the model on the training data\n",
    "w_avg.score(X_train_clean, y_train)"
   ]
  },
  {
   "cell_type": "code",
   "execution_count": 69,
   "metadata": {
    "scrolled": true
   },
   "outputs": [
    {
     "data": {
      "text/plain": [
       "0.9055472263868066"
      ]
     },
     "execution_count": 69,
     "metadata": {},
     "output_type": "execute_result"
    }
   ],
   "source": [
    "#score the model on the testing data\n",
    "w_avg.score(X_test_clean, y_test)"
   ]
  },
  {
   "cell_type": "markdown",
   "metadata": {},
   "source": [
    "So far our best model has been DecisionTreeClassifier with the following parameters:\n",
    "- Criterion: 'entropy'\n",
    "- max_depth: 7\n",
    "- min_samples_leaf: 2\n",
    "- min_samples_split: 10\n",
    "\n",
    "With an accuracy of .94 on the testing set"
   ]
  },
  {
   "cell_type": "markdown",
   "metadata": {},
   "source": [
    "Before we move on let's check out the classification report of this model."
   ]
  },
  {
   "cell_type": "code",
   "execution_count": 70,
   "metadata": {
    "scrolled": true
   },
   "outputs": [
    {
     "name": "stdout",
     "output_type": "stream",
     "text": [
      "              precision    recall  f1-score   support\n",
      "\n",
      "       False       0.95      0.98      0.96       566\n",
      "        True       0.85      0.72      0.78       101\n",
      "\n",
      "    accuracy                           0.94       667\n",
      "   macro avg       0.90      0.85      0.87       667\n",
      "weighted avg       0.94      0.94      0.94       667\n",
      "\n"
     ]
    }
   ],
   "source": [
    "#re-initiate the model with desired conditions\n",
    "dt = DecisionTreeClassifier(criterion='entropy', \n",
    "                            max_depth=7, \n",
    "                            min_samples_leaf=2, \n",
    "                            min_samples_split=10,\n",
    "                            random_state=42)\n",
    "#fit the model\n",
    "dt.fit(X_train_clean, y_train)\n",
    "\n",
    "#create prediction variables for the testing set\n",
    "y_preds = dt.predict(X_test_clean)\n",
    "\n",
    "#create a classification_report using actual results vs predicted results\n",
    "print(classification_report(y_test, y_preds))"
   ]
  },
  {
   "cell_type": "markdown",
   "metadata": {},
   "source": [
    "Now lets move on to create a bagging model\n",
    "\n",
    "### Bagging\n",
    "\n",
    "Bagging, which is short for Bootstrap Aggregating, is an ensemble method that creates multiple versions of a base model on different subsets of the training data and combining their predictions. The samples are created by bootstrap sampling, which is a random sampling technique that involves selecting samples from the training set with replacement. The sample uses n_estimators as a hyperparameter which determines how many base estimators(Decision Trees) to run on the subset of the data "
   ]
  },
  {
   "cell_type": "code",
   "execution_count": 171,
   "metadata": {},
   "outputs": [],
   "source": [
    "#initiate the BaggingClassifier with n_estimators=100, random_state=42\n",
    "bag = BaggingClassifier(n_estimators=100, random_state=42)"
   ]
  },
  {
   "cell_type": "code",
   "execution_count": 172,
   "metadata": {
    "scrolled": true
   },
   "outputs": [
    {
     "data": {
      "text/plain": [
       "BaggingClassifier(n_estimators=100, random_state=42)"
      ]
     },
     "execution_count": 172,
     "metadata": {},
     "output_type": "execute_result"
    }
   ],
   "source": [
    "#fit the model\n",
    "bag.fit(X_train_clean, y_train)"
   ]
  },
  {
   "cell_type": "code",
   "execution_count": 173,
   "metadata": {},
   "outputs": [
    {
     "data": {
      "text/plain": [
       "array([0.94569288, 0.94559099, 0.93621013, 0.94183865, 0.9587242 ])"
      ]
     },
     "execution_count": 173,
     "metadata": {},
     "output_type": "execute_result"
    }
   ],
   "source": [
    "#pul up scores of the model on 5 folds\n",
    "scores = cross_val_score(estimator=bag, X=X_train_clean, y=y_train, cv=5)\n",
    "scores"
   ]
  },
  {
   "cell_type": "code",
   "execution_count": 174,
   "metadata": {
    "scrolled": true
   },
   "outputs": [
    {
     "data": {
      "text/plain": [
       "0.9455909943714822"
      ]
     },
     "execution_count": 174,
     "metadata": {},
     "output_type": "execute_result"
    }
   ],
   "source": [
    "#get the median score\n",
    "np.median(scores)"
   ]
  },
  {
   "cell_type": "code",
   "execution_count": 175,
   "metadata": {
    "scrolled": false
   },
   "outputs": [
    {
     "data": {
      "text/plain": [
       "0.9535232383808095"
      ]
     },
     "execution_count": 175,
     "metadata": {},
     "output_type": "execute_result"
    }
   ],
   "source": [
    "#score the model on the training data\n",
    "bag.score(X_test_clean, y_test)"
   ]
  },
  {
   "cell_type": "markdown",
   "metadata": {},
   "source": [
    "Since this is our best model yet, let's pull up a classification_report of the model"
   ]
  },
  {
   "cell_type": "code",
   "execution_count": 176,
   "metadata": {
    "scrolled": true
   },
   "outputs": [
    {
     "name": "stdout",
     "output_type": "stream",
     "text": [
      "              precision    recall  f1-score   support\n",
      "\n",
      "       False       0.96      0.99      0.97       566\n",
      "        True       0.93      0.75      0.83       101\n",
      "\n",
      "    accuracy                           0.95       667\n",
      "   macro avg       0.94      0.87      0.90       667\n",
      "weighted avg       0.95      0.95      0.95       667\n",
      "\n"
     ]
    }
   ],
   "source": [
    "#create predictions for our testing test\n",
    "y_pred = bag.predict(X_test_clean)\n",
    "\n",
    "#create classification_report based on predictions\n",
    "print(classification_report(y_test, y_pred))"
   ]
  },
  {
   "cell_type": "markdown",
   "metadata": {},
   "source": [
    "So now we have a model with 95% accuracy, 93% precision, and an f1 score of .83, our best model yet! However, our recall is only 75%. Let's try to tweak this model to improve the recall, without decreasing the precision and f1 score too much."
   ]
  },
  {
   "cell_type": "code",
   "execution_count": 177,
   "metadata": {
    "scrolled": true
   },
   "outputs": [
    {
     "name": "stdout",
     "output_type": "stream",
     "text": [
      "              precision    recall  f1-score   support\n",
      "\n",
      "       False       0.97      0.96      0.96       566\n",
      "        True       0.78      0.84      0.81       101\n",
      "\n",
      "    accuracy                           0.94       667\n",
      "   macro avg       0.88      0.90      0.89       667\n",
      "weighted avg       0.94      0.94      0.94       667\n",
      "\n"
     ]
    }
   ],
   "source": [
    "#store values for predicted probabilities for the True class\n",
    "y_prob = bag.predict_proba(X_test_clean)[:,1]\n",
    "\n",
    "#create prediction based on a new threshold of .29\n",
    "y_pred = (y_prob >= 0.29).astype(int)\n",
    "\n",
    "#create a classification_report and name it bag_report\n",
    "print(classification_report(y_test, y_pred))"
   ]
  },
  {
   "cell_type": "code",
   "execution_count": 178,
   "metadata": {
    "scrolled": true
   },
   "outputs": [
    {
     "name": "stdout",
     "output_type": "stream",
     "text": [
      "[[542  24]\n",
      " [ 16  85]]\n"
     ]
    }
   ],
   "source": [
    "#print confusion matrix\n",
    "print(confusion_matrix(y_test, y_pred))"
   ]
  },
  {
   "cell_type": "markdown",
   "metadata": {},
   "source": [
    "The best we can do without changing the model too much is a recall of .84 while only decreasing the accuracy by 1% and f1 score by .2. Although, the precision decreased by 15%, for this stakeholder this is a better model. Additionally, many other probabilities were tested, and this was the best balance. \n",
    "\n",
    "Let's run a GridSearch for multiple features to see if the model can do better."
   ]
  },
  {
   "cell_type": "code",
   "execution_count": 179,
   "metadata": {},
   "outputs": [],
   "source": [
    "#reset BaggingClassifier with random_state=42\n",
    "grid_bag = BaggingClassifier(random_state=42)\n",
    "\n",
    "#create param grid\n",
    "params = {\n",
    "    'n_estimators': [10, 50, 100],\n",
    "    'max_samples': [0.5, 1.0],\n",
    "}\n",
    "\n",
    "\n",
    "#I previously ran this cell with: 'max_features': [0.5, 1.0], 'bootstrap': [True, False]\n",
    "# and they returned the default answers. Due to the time it took to run the cell, \n",
    "#I removed them from the notebook"
   ]
  },
  {
   "cell_type": "code",
   "execution_count": 180,
   "metadata": {},
   "outputs": [
    {
     "data": {
      "text/plain": [
       "GridSearchCV(cv=5, estimator=BaggingClassifier(random_state=42),\n",
       "             param_grid={'max_samples': [0.5, 1.0],\n",
       "                         'n_estimators': [10, 50, 100]})"
      ]
     },
     "execution_count": 180,
     "metadata": {},
     "output_type": "execute_result"
    }
   ],
   "source": [
    "#create the GridSearchCV with 5 folds\n",
    "grid = GridSearchCV(grid_bag, param_grid=params, cv=5)\n",
    "\n",
    "#fit the grid on the training data\n",
    "grid.fit(X_train_clean, y_train)"
   ]
  },
  {
   "cell_type": "code",
   "execution_count": 181,
   "metadata": {},
   "outputs": [
    {
     "name": "stdout",
     "output_type": "stream",
     "text": [
      "{'max_samples': 0.5, 'n_estimators': 50}\n"
     ]
    }
   ],
   "source": [
    "#print the best parameters\n",
    "print(grid.best_params_)"
   ]
  },
  {
   "cell_type": "code",
   "execution_count": 182,
   "metadata": {},
   "outputs": [
    {
     "data": {
      "text/plain": [
       "0.9756189047261815"
      ]
     },
     "execution_count": 182,
     "metadata": {},
     "output_type": "execute_result"
    }
   ],
   "source": [
    "#score the model on the training data\n",
    "grid.best_estimator_.score(X_train_clean, y_train)"
   ]
  },
  {
   "cell_type": "code",
   "execution_count": 183,
   "metadata": {},
   "outputs": [
    {
     "data": {
      "text/plain": [
       "0.9505247376311844"
      ]
     },
     "execution_count": 183,
     "metadata": {},
     "output_type": "execute_result"
    }
   ],
   "source": [
    "#score the model on the test data\n",
    "grid.best_estimator_.score(X_test_clean, y_test)"
   ]
  },
  {
   "cell_type": "code",
   "execution_count": 191,
   "metadata": {
    "scrolled": true
   },
   "outputs": [
    {
     "name": "stdout",
     "output_type": "stream",
     "text": [
      "              precision    recall  f1-score   support\n",
      "\n",
      "       False       0.97      0.94      0.96       566\n",
      "        True       0.73      0.85      0.79       101\n",
      "\n",
      "    accuracy                           0.93       667\n",
      "   macro avg       0.85      0.90      0.87       667\n",
      "weighted avg       0.94      0.93      0.93       667\n",
      "\n"
     ]
    }
   ],
   "source": [
    "#store values for predicted probabilities for the True class\n",
    "y_prob = grid.predict_proba(X_test_clean)[:,1]\n",
    "\n",
    "#create prediction based on a new threshold of .29\n",
    "y_pred = (y_prob >= 0.24).astype(int)\n",
    "\n",
    "#create a classification_report and name it bag_report\n",
    "bag_report = classification_report(y_test, y_pred)\n",
    "\n",
    "#print the report\n",
    "print(bag_report)"
   ]
  },
  {
   "cell_type": "markdown",
   "metadata": {},
   "source": [
    "Although our accuracy went down 1% from our previous model, as well as precision dropping another 5%. The recall increased 1% without having too much of an affect on the f1 score. The f1 score only decreased by .02, to .79, which is still an acceptable value. \n",
    "\n",
    "We will come back to this model later, as it is our best model so far."
   ]
  },
  {
   "cell_type": "markdown",
   "metadata": {},
   "source": [
    "### Random Forest"
   ]
  },
  {
   "cell_type": "markdown",
   "metadata": {},
   "source": [
    "RandomForestClassifier() is made up of a large amount of decision trees. These trees are created by randomly selecting part of the data and randomly selecting features. Then the best possible decision tree is made on this subset of the data. This is done until a prespecified number of trees are made. Then the final model creates a prediction based on the majority of trees."
   ]
  },
  {
   "cell_type": "code",
   "execution_count": 135,
   "metadata": {},
   "outputs": [
    {
     "data": {
      "text/plain": [
       "RandomForestClassifier(max_features='sqrt', max_samples=0.5, random_state=42)"
      ]
     },
     "execution_count": 135,
     "metadata": {},
     "output_type": "execute_result"
    }
   ],
   "source": [
    "#initiate RandomForestClassifier()\n",
    "rfc = RandomForestClassifier(max_features='sqrt', max_samples=.5, random_state=42)\n",
    "\n",
    "#fit the classifier on the train data\n",
    "rfc.fit(X_train_clean, y_train)"
   ]
  },
  {
   "cell_type": "code",
   "execution_count": 136,
   "metadata": {},
   "outputs": [
    {
     "data": {
      "text/plain": [
       "array([0.91011236, 0.93245779, 0.91932458, 0.90994371, 0.92120075])"
      ]
     },
     "execution_count": 136,
     "metadata": {},
     "output_type": "execute_result"
    }
   ],
   "source": [
    "# pull up 5 folds of scores using cross_val_score\n",
    "scores = cross_val_score(rfc, X_train_clean, y_train, cv=5)\n",
    "scores"
   ]
  },
  {
   "cell_type": "code",
   "execution_count": 137,
   "metadata": {},
   "outputs": [
    {
     "data": {
      "text/plain": [
       "0.9193245778611632"
      ]
     },
     "execution_count": 137,
     "metadata": {},
     "output_type": "execute_result"
    }
   ],
   "source": [
    "#get the median\n",
    "np.median(scores)"
   ]
  },
  {
   "cell_type": "code",
   "execution_count": 138,
   "metadata": {},
   "outputs": [
    {
     "data": {
      "text/plain": [
       "0.9295352323838081"
      ]
     },
     "execution_count": 138,
     "metadata": {},
     "output_type": "execute_result"
    }
   ],
   "source": [
    "#calculate the score on the training set\n",
    "score = rfc.score(X_test_clean, y_test)\n",
    "score"
   ]
  },
  {
   "cell_type": "code",
   "execution_count": 139,
   "metadata": {
    "scrolled": true
   },
   "outputs": [
    {
     "name": "stdout",
     "output_type": "stream",
     "text": [
      "              precision    recall  f1-score   support\n",
      "\n",
      "       False       0.92      1.00      0.96       566\n",
      "        True       0.98      0.54      0.70       101\n",
      "\n",
      "    accuracy                           0.93       667\n",
      "   macro avg       0.95      0.77      0.83       667\n",
      "weighted avg       0.93      0.93      0.92       667\n",
      "\n"
     ]
    }
   ],
   "source": [
    "#predict scores for our test set\n",
    "y_pred = rfc.predict(X_test_clean)\n",
    "\n",
    "#print out a classification_report\n",
    "print(classification_report(y_test, y_pred))"
   ]
  },
  {
   "cell_type": "markdown",
   "metadata": {},
   "source": [
    "While the precision is quite high, the recall is really low.\n",
    "\n",
    "Let's move on and check out an ExtraTrees model"
   ]
  },
  {
   "cell_type": "markdown",
   "metadata": {},
   "source": [
    "### Extra Trees \n",
    "\n",
    "ExtraTrees is similar to Random Forests in that it builds multiple decision trees and then combines their predictions. However, it differs in how it creates those Decision Trees, in that Extra Trees creates decision trees much more randomly then Random Forest. As such we should expect a lower score here the Random Forests"
   ]
  },
  {
   "cell_type": "code",
   "execution_count": 85,
   "metadata": {},
   "outputs": [],
   "source": [
    "#Initiate ExtraTreesClassifier\n",
    "etr = ExtraTreesClassifier(max_features='sqrt', \n",
    "                          max_samples=.5,\n",
    "                          bootstrap=True,\n",
    "                          random_state=42)"
   ]
  },
  {
   "cell_type": "markdown",
   "metadata": {},
   "source": [
    "We ran a GridSearchCV to find out the best features to run the ExtraTrees with"
   ]
  },
  {
   "cell_type": "code",
   "execution_count": 115,
   "metadata": {},
   "outputs": [
    {
     "data": {
      "text/plain": [
       "ExtraTreesClassifier(bootstrap=True, max_features='sqrt', max_samples=0.5,\n",
       "                     random_state=42)"
      ]
     },
     "execution_count": 115,
     "metadata": {},
     "output_type": "execute_result"
    }
   ],
   "source": [
    "#Fit the classifier on the training data\n",
    "etr.fit(X_train_clean, y_train)"
   ]
  },
  {
   "cell_type": "code",
   "execution_count": 116,
   "metadata": {},
   "outputs": [
    {
     "data": {
      "text/plain": [
       "array([0.88014981, 0.88742964, 0.89305816, 0.87804878, 0.88930582])"
      ]
     },
     "execution_count": 116,
     "metadata": {},
     "output_type": "execute_result"
    }
   ],
   "source": [
    "#score the classifier on 5 folds on the train set\n",
    "scores = cross_val_score(etr, X_train_clean, y_train, cv=5)\n",
    "scores"
   ]
  },
  {
   "cell_type": "markdown",
   "metadata": {},
   "source": [
    "This is not great, so lets move on."
   ]
  },
  {
   "cell_type": "markdown",
   "metadata": {},
   "source": [
    "### Stacking\n",
    "\n",
    "Stacking Classifier  combines multiple models to make a final prediction. The combination of these models is done in two stages.  In the first stage, the base models make predictions based on the training data. The higher level model uses these predictions to make a final prediction on the data."
   ]
  },
  {
   "cell_type": "code",
   "execution_count": 121,
   "metadata": {},
   "outputs": [
    {
     "data": {
      "text/plain": [
       "StackingClassifier(estimators=[('lr', LogisticRegression()),\n",
       "                               ('kkn', KNeighborsClassifier()),\n",
       "                               ('dt', DecisionTreeClassifier())])"
      ]
     },
     "execution_count": 121,
     "metadata": {},
     "output_type": "execute_result"
    }
   ],
   "source": [
    "#input LogisticRegression, KNearestNeighbors and DecisionTrees as our estimators\n",
    "estimators = [\n",
    "    ('lr', LogisticRegression()),\n",
    "    ('kkn', KNeighborsClassifier()),\n",
    "    ('dt', DecisionTreeClassifier())\n",
    "]\n",
    "\n",
    "#initiate Stacking Classifier\n",
    "sr = StackingClassifier(estimators)\n",
    "\n",
    "#fit it to the data\n",
    "sr.fit(X_train_clean, y_train)"
   ]
  },
  {
   "cell_type": "code",
   "execution_count": 122,
   "metadata": {},
   "outputs": [
    {
     "data": {
      "text/plain": [
       "0.9879969992498124"
      ]
     },
     "execution_count": 122,
     "metadata": {},
     "output_type": "execute_result"
    }
   ],
   "source": [
    "#score the classifier on the training set\n",
    "sr.score(X_train_clean, y_train)"
   ]
  },
  {
   "cell_type": "code",
   "execution_count": 123,
   "metadata": {},
   "outputs": [
    {
     "data": {
      "text/plain": [
       "0.9370314842578711"
      ]
     },
     "execution_count": 123,
     "metadata": {},
     "output_type": "execute_result"
    }
   ],
   "source": [
    "# score the classifier on the testing set\n",
    "sr.score(X_test_clean, y_test)"
   ]
  },
  {
   "cell_type": "code",
   "execution_count": 125,
   "metadata": {
    "scrolled": false
   },
   "outputs": [
    {
     "name": "stdout",
     "output_type": "stream",
     "text": [
      "              precision    recall  f1-score   support\n",
      "\n",
      "       False       0.94      0.99      0.96       566\n",
      "        True       0.90      0.65      0.76       101\n",
      "\n",
      "    accuracy                           0.94       667\n",
      "   macro avg       0.92      0.82      0.86       667\n",
      "weighted avg       0.94      0.94      0.93       667\n",
      "\n"
     ]
    }
   ],
   "source": [
    "#create predictions for the testing set\n",
    "y_pred = sr.predict(X_test_clean)\n",
    "\n",
    "#create a classification_report based on the predictions\n",
    "print(classification_report(y_test, y_pred))"
   ]
  },
  {
   "cell_type": "markdown",
   "metadata": {},
   "source": [
    "Again, while the overall model is very good, the recall and f1 score are much lower then we need it to be. Let's move on to our next model"
   ]
  },
  {
   "cell_type": "markdown",
   "metadata": {},
   "source": [
    "### Adaboost\n",
    "\n",
    "Adaboost works by combining multiple weak classifiers, that are slightly better than random guessing, into one final model. This is done by training a weak classifier on the training data. Then the classifier increases the weights of the misclassified data, and creates a new weak classifier on the updated data. This is done until a prespecified number of classifiers have been made. These weak classifiers are combined into one final strong classifier."
   ]
  },
  {
   "cell_type": "code",
   "execution_count": 92,
   "metadata": {},
   "outputs": [
    {
     "data": {
      "text/plain": [
       "AdaBoostClassifier()"
      ]
     },
     "execution_count": 92,
     "metadata": {},
     "output_type": "execute_result"
    }
   ],
   "source": [
    "#Initiate AdaBoostClassifier()\n",
    "abc = AdaBoostClassifier()\n",
    "\n",
    "#fit the Classifier()\n",
    "abc.fit(X_train_clean, y_train)"
   ]
  },
  {
   "cell_type": "code",
   "execution_count": 93,
   "metadata": {
    "scrolled": true
   },
   "outputs": [
    {
     "data": {
      "text/plain": [
       "0.8934733683420856"
      ]
     },
     "execution_count": 93,
     "metadata": {},
     "output_type": "execute_result"
    }
   ],
   "source": [
    "#score the classifier on the training set\n",
    "abc.score(X_train_clean, y_train)"
   ]
  },
  {
   "cell_type": "code",
   "execution_count": 94,
   "metadata": {
    "scrolled": true
   },
   "outputs": [
    {
     "name": "stdout",
     "output_type": "stream",
     "text": [
      "              precision    recall  f1-score   support\n",
      "\n",
      "       False       0.89      0.97      0.93       566\n",
      "        True       0.65      0.34      0.44       101\n",
      "\n",
      "    accuracy                           0.87       667\n",
      "   macro avg       0.77      0.65      0.69       667\n",
      "weighted avg       0.86      0.87      0.85       667\n",
      "\n"
     ]
    }
   ],
   "source": [
    "# create prediction variables on the testing set\n",
    "y_pred = abc.predict(X_test_clean)\n",
    "\n",
    "# create classification_report\n",
    "print(classification_report(y_test, y_pred))"
   ]
  },
  {
   "cell_type": "markdown",
   "metadata": {},
   "source": [
    "This is not great so let's move on to the next predictor."
   ]
  },
  {
   "cell_type": "markdown",
   "metadata": {},
   "source": [
    "### Gradient Boost\n",
    "\n",
    "Gradient Boost is done by training a weak learner on the data. Then calculating the residuals, and training a model on those residuals. This, is done a specified number of times, then these weak learners are all combined using weighted majority voting to create one strong learner."
   ]
  },
  {
   "cell_type": "code",
   "execution_count": 95,
   "metadata": {},
   "outputs": [
    {
     "data": {
      "text/plain": [
       "GradientBoostingClassifier(learning_rate=1.0, max_depth=2, n_estimators=3)"
      ]
     },
     "execution_count": 95,
     "metadata": {},
     "output_type": "execute_result"
    }
   ],
   "source": [
    "# Initiate GradientBoostingClassifier with specified features from a GridSearch\n",
    "gbc = GradientBoostingClassifier(max_depth=2, n_estimators=3, learning_rate=1.0)\n",
    "\n",
    "#fit the classifier\n",
    "gbc.fit(X_train_clean, y_train)"
   ]
  },
  {
   "cell_type": "code",
   "execution_count": 96,
   "metadata": {},
   "outputs": [
    {
     "data": {
      "text/plain": [
       "0.9017254313578394"
      ]
     },
     "execution_count": 96,
     "metadata": {},
     "output_type": "execute_result"
    }
   ],
   "source": [
    "# score the classifier on the training set\n",
    "gbc.score(X_train_clean, y_train)"
   ]
  },
  {
   "cell_type": "code",
   "execution_count": 126,
   "metadata": {},
   "outputs": [
    {
     "name": "stdout",
     "output_type": "stream",
     "text": [
      "              precision    recall  f1-score   support\n",
      "\n",
      "       False       0.90      0.99      0.94       566\n",
      "        True       0.84      0.42      0.56       101\n",
      "\n",
      "    accuracy                           0.90       667\n",
      "   macro avg       0.87      0.70      0.75       667\n",
      "weighted avg       0.89      0.90      0.88       667\n",
      "\n"
     ]
    }
   ],
   "source": [
    "# create prediction values on the testing set\n",
    "y_pred = gbc.predict(X_test_clean)\n",
    "\n",
    "#print a classification_report\n",
    "print(classification_report(y_test, y_pred))"
   ]
  },
  {
   "cell_type": "markdown",
   "metadata": {},
   "source": [
    "Since this is not nearly as good as previous models, we will move on to our final type of model."
   ]
  },
  {
   "cell_type": "markdown",
   "metadata": {},
   "source": [
    "### XGBoost\n",
    "\n",
    "XGBoost can be thought of as an improved version of Gradient Boosting as it uses very similar techniques to model but with some enhancements. It works by training weak learners, using gradient descent, to minimize the loss function. Each new learner is trained to correct the previous predictor's error. The final model is a weighted combination of all the trees based on its reduction to the loss function."
   ]
  },
  {
   "cell_type": "code",
   "execution_count": 127,
   "metadata": {
    "scrolled": true
   },
   "outputs": [
    {
     "data": {
      "text/plain": [
       "XGBClassifier(base_score=0.5, booster='gbtree', colsample_bylevel=1,\n",
       "              colsample_bynode=1, colsample_bytree=1, gamma=0, gpu_id=-1,\n",
       "              importance_type='gain', interaction_constraints='',\n",
       "              learning_rate=0.300000012, max_delta_step=0, max_depth=6,\n",
       "              min_child_weight=1, missing=nan, monotone_constraints='()',\n",
       "              n_estimators=100, n_jobs=0, num_parallel_tree=1,\n",
       "              objective='reg:squarederror', random_state=42, reg_alpha=0,\n",
       "              reg_lambda=1, scale_pos_weight=1, subsample=1,\n",
       "              tree_method='exact', validate_parameters=1, verbosity=None)"
      ]
     },
     "execution_count": 127,
     "metadata": {},
     "output_type": "execute_result"
    }
   ],
   "source": [
    "#Initiate XGBoost\n",
    "xgb = xgboost.XGBClassifier(random_state=42, objective='reg:squarederror')\n",
    "\n",
    "#fit the classifier\n",
    "xgb.fit(X_train_clean, y_train)\n",
    "\n",
    "#'gamma': 0.1, 'max_depth': 4,"
   ]
  },
  {
   "cell_type": "code",
   "execution_count": 112,
   "metadata": {},
   "outputs": [
    {
     "data": {
      "text/plain": [
       "1.0"
      ]
     },
     "execution_count": 112,
     "metadata": {},
     "output_type": "execute_result"
    }
   ],
   "source": [
    "#score the model on training set\n",
    "xgb.score(X_train_clean, y_train)"
   ]
  },
  {
   "cell_type": "code",
   "execution_count": 128,
   "metadata": {
    "scrolled": false
   },
   "outputs": [
    {
     "name": "stdout",
     "output_type": "stream",
     "text": [
      "              precision    recall  f1-score   support\n",
      "\n",
      "       False       0.96      0.98      0.97       566\n",
      "        True       0.89      0.76      0.82       101\n",
      "\n",
      "    accuracy                           0.95       667\n",
      "   macro avg       0.92      0.87      0.89       667\n",
      "weighted avg       0.95      0.95      0.95       667\n",
      "\n"
     ]
    }
   ],
   "source": [
    "#create predictions for X_test\n",
    "y_pred = xgb.predict(X_test_clean)\n",
    "\n",
    "#create a classification_report based on predictions\n",
    "print(classification_report(y_test, y_pred))"
   ]
  },
  {
   "cell_type": "markdown",
   "metadata": {},
   "source": [
    "This default is very similar to our bag(which was our best model so far). The accuracy in the bag was 95% with a recall of 75%, precision of 93%, and recall of .83. This model has the same accuracy with a slightly worse precision and f1 score and slightly better recall. Just as we tweaked our bag model, let's try to tweak our current model to improve the recall without decreasing the precision and f1 score too much."
   ]
  },
  {
   "cell_type": "code",
   "execution_count": 134,
   "metadata": {
    "scrolled": true
   },
   "outputs": [
    {
     "name": "stdout",
     "output_type": "stream",
     "text": [
      "              precision    recall  f1-score   support\n",
      "\n",
      "       False       0.97      0.95      0.96       566\n",
      "        True       0.75      0.84      0.79       101\n",
      "\n",
      "    accuracy                           0.93       667\n",
      "   macro avg       0.86      0.90      0.88       667\n",
      "weighted avg       0.94      0.93      0.94       667\n",
      "\n"
     ]
    }
   ],
   "source": [
    "#store values for predicted probabilities for the True class\n",
    "y_prob = xgb.predict_proba(X_test_clean)[:,1]\n",
    "\n",
    "#create predictions for X_test based on probability of .25\n",
    "y_pred = (y_prob >= 0.25).astype(int)\n",
    "\n",
    "#print clasification_report\n",
    "print(classification_report(y_test, y_pred))"
   ]
  },
  {
   "cell_type": "markdown",
   "metadata": {},
   "source": [
    "Let's pull up our previous best model(which was made using bagging), to compare scores"
   ]
  },
  {
   "cell_type": "code",
   "execution_count": 193,
   "metadata": {
    "scrolled": true
   },
   "outputs": [
    {
     "name": "stdout",
     "output_type": "stream",
     "text": [
      "              precision    recall  f1-score   support\n",
      "\n",
      "       False       0.97      0.94      0.96       566\n",
      "        True       0.73      0.85      0.79       101\n",
      "\n",
      "    accuracy                           0.93       667\n",
      "   macro avg       0.85      0.90      0.87       667\n",
      "weighted avg       0.94      0.93      0.93       667\n",
      "\n"
     ]
    }
   ],
   "source": [
    "#print classification_report for our previous best model\n",
    "print(bag_report)"
   ]
  },
  {
   "cell_type": "markdown",
   "metadata": {},
   "source": [
    "Our bagging model still remains our best model as it has the same f1 score and accuracy, yet has a higher recall score by 1% with only a slightly lower precision.\n",
    "\n",
    "Let's run a grid sesarch to see if we can improve the model"
   ]
  },
  {
   "cell_type": "code",
   "execution_count": 194,
   "metadata": {
    "scrolled": false
   },
   "outputs": [
    {
     "data": {
      "text/plain": [
       "GridSearchCV(cv=5,\n",
       "             estimator=XGBClassifier(base_score=0.5, booster='gbtree',\n",
       "                                     colsample_bylevel=1, colsample_bynode=1,\n",
       "                                     colsample_bytree=1, gamma=0, gpu_id=-1,\n",
       "                                     importance_type='gain',\n",
       "                                     interaction_constraints='',\n",
       "                                     learning_rate=0.300000012,\n",
       "                                     max_delta_step=0, max_depth=6,\n",
       "                                     min_child_weight=1, missing=nan,\n",
       "                                     monotone_constraints='()',\n",
       "                                     n_estimators=100, n_jobs=0,\n",
       "                                     num_parallel_tree=1,\n",
       "                                     objective='reg:squarederror',\n",
       "                                     random_state=42, reg_alpha=0, reg_lambda=1,\n",
       "                                     scale_pos_weight=1, subsample=1,\n",
       "                                     tree_method='exact', validate_parameters=1,\n",
       "                                     verbosity=None),\n",
       "             n_jobs=-1,\n",
       "             param_grid={'gamma': [0, 0.1, 0.5], 'max_depth': [4, 6, 8]})"
      ]
     },
     "execution_count": 194,
     "metadata": {},
     "output_type": "execute_result"
    }
   ],
   "source": [
    "#set params for grid search\n",
    "param_grid = {\n",
    "    \"max_depth\": [4, 6, 8],\n",
    "    \"gamma\": [0, 0.1, 0.5]\n",
    "}\n",
    "\n",
    "# Create GridSearchCV object\n",
    "grid_search = GridSearchCV(xgb, param_grid=param_grid, cv=5, n_jobs=-1)\n",
    "\n",
    "# Fit the GridSearchCV object on training data\n",
    "grid_search.fit(X_train_clean, y_train)\n",
    "\n",
    "#the param_grid originally contained more features. However, they ended up all suggesting\n",
    "# that the default settings were the best. As such we removed them from the grid as it\n",
    "# took a very long time to run. These included: learning_rate, n_estimators"
   ]
  },
  {
   "cell_type": "code",
   "execution_count": 195,
   "metadata": {},
   "outputs": [
    {
     "data": {
      "text/plain": [
       "{'gamma': 0.1, 'max_depth': 4}"
      ]
     },
     "execution_count": 195,
     "metadata": {},
     "output_type": "execute_result"
    }
   ],
   "source": [
    "#find best_params_\n",
    "grid_search.best_params_"
   ]
  },
  {
   "cell_type": "code",
   "execution_count": 196,
   "metadata": {},
   "outputs": [
    {
     "data": {
      "text/plain": [
       "0.9804951237809453"
      ]
     },
     "execution_count": 196,
     "metadata": {},
     "output_type": "execute_result"
    }
   ],
   "source": [
    "#score the model on the training data\n",
    "grid_search.score(X_train_clean, y_train)"
   ]
  },
  {
   "cell_type": "code",
   "execution_count": 197,
   "metadata": {
    "scrolled": true
   },
   "outputs": [
    {
     "name": "stdout",
     "output_type": "stream",
     "text": [
      "              precision    recall  f1-score   support\n",
      "\n",
      "       False       0.97      0.95      0.96       566\n",
      "        True       0.75      0.84      0.79       101\n",
      "\n",
      "    accuracy                           0.93       667\n",
      "   macro avg       0.86      0.90      0.88       667\n",
      "weighted avg       0.94      0.93      0.94       667\n",
      "\n"
     ]
    }
   ],
   "source": [
    "#store values for predicted probabilities for the True class\n",
    "y_prob = xgb.predict_proba(X_test_clean)[:,1]\n",
    "\n",
    "#create predictions for the testing set using a threshold of .25\n",
    "y_pred = (y_prob >= 0.25).astype(int)\n",
    "\n",
    "#print classification_report\n",
    "print(classification_report(y_test, y_pred))\n",
    "\n",
    "#other probabilities were testing here, and this created the best balance of the scores"
   ]
  },
  {
   "cell_type": "markdown",
   "metadata": {},
   "source": [
    "## get best model from end of bag section"
   ]
  },
  {
   "cell_type": "code",
   "execution_count": 203,
   "metadata": {},
   "outputs": [
    {
     "ename": "AttributeError",
     "evalue": "'BaggingClassifier' object has no attribute 'feature_importances_'",
     "output_type": "error",
     "traceback": [
      "\u001b[0;31m---------------------------------------------------------------------------\u001b[0m",
      "\u001b[0;31mAttributeError\u001b[0m                            Traceback (most recent call last)",
      "\u001b[0;32m<ipython-input-203-5f7b9bc95333>\u001b[0m in \u001b[0;36m<module>\u001b[0;34m\u001b[0m\n\u001b[1;32m      2\u001b[0m feat_import = {name:score\n\u001b[1;32m      3\u001b[0m                \u001b[0;32mfor\u001b[0m \u001b[0mname\u001b[0m\u001b[0;34m,\u001b[0m \u001b[0mscore\u001b[0m\u001b[0;34m\u001b[0m\u001b[0;34m\u001b[0m\u001b[0m\n\u001b[0;32m----> 4\u001b[0;31m                    \u001b[0;32min\u001b[0m \u001b[0mzip\u001b[0m\u001b[0;34m(\u001b[0m\u001b[0mX_test_clean\u001b[0m\u001b[0;34m.\u001b[0m\u001b[0mcolumns\u001b[0m\u001b[0;34m,\u001b[0m \u001b[0mgrid_bag\u001b[0m\u001b[0;34m.\u001b[0m\u001b[0mfeature_importances_\u001b[0m\u001b[0;34m)\u001b[0m\u001b[0;34m\u001b[0m\u001b[0;34m\u001b[0m\u001b[0m\n\u001b[0m\u001b[1;32m      5\u001b[0m }\n\u001b[1;32m      6\u001b[0m \u001b[0mfeat_import\u001b[0m\u001b[0;34m\u001b[0m\u001b[0;34m\u001b[0m\u001b[0m\n",
      "\u001b[0;31mAttributeError\u001b[0m: 'BaggingClassifier' object has no attribute 'feature_importances_'"
     ]
    }
   ],
   "source": [
    "#put this on final model\n",
    "feat_import = {name:score\n",
    "               for name, score\n",
    "                   in zip(X_test_clean.columns, grid_bag.feature_importances_)\n",
    "}\n",
    "feat_import"
   ]
  },
  {
   "cell_type": "markdown",
   "metadata": {},
   "source": []
  },
  {
   "cell_type": "markdown",
   "metadata": {},
   "source": []
  },
  {
   "cell_type": "markdown",
   "metadata": {},
   "source": []
  },
  {
   "cell_type": "markdown",
   "metadata": {},
   "source": []
  }
 ],
 "metadata": {
  "kernelspec": {
   "display_name": "Python (learn-env)",
   "language": "python",
   "name": "learn-env"
  },
  "language_info": {
   "codemirror_mode": {
    "name": "ipython",
    "version": 3
   },
   "file_extension": ".py",
   "mimetype": "text/x-python",
   "name": "python",
   "nbconvert_exporter": "python",
   "pygments_lexer": "ipython3",
   "version": "3.8.5"
  }
 },
 "nbformat": 4,
 "nbformat_minor": 4
}
